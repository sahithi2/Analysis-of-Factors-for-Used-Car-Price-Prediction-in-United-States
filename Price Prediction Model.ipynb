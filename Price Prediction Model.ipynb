{
 "cells": [
  {
   "cell_type": "code",
   "execution_count": 24,
   "metadata": {},
   "outputs": [
    {
     "data": {
      "text/html": [
       "<div>\n",
       "<style scoped>\n",
       "    .dataframe tbody tr th:only-of-type {\n",
       "        vertical-align: middle;\n",
       "    }\n",
       "\n",
       "    .dataframe tbody tr th {\n",
       "        vertical-align: top;\n",
       "    }\n",
       "\n",
       "    .dataframe thead th {\n",
       "        text-align: right;\n",
       "    }\n",
       "</style>\n",
       "<table border=\"1\" class=\"dataframe\">\n",
       "  <thead>\n",
       "    <tr style=\"text-align: right;\">\n",
       "      <th></th>\n",
       "      <th>Unnamed: 0</th>\n",
       "      <th>id</th>\n",
       "      <th>url</th>\n",
       "      <th>region</th>\n",
       "      <th>region_url</th>\n",
       "      <th>price</th>\n",
       "      <th>year</th>\n",
       "      <th>manufacturer</th>\n",
       "      <th>model</th>\n",
       "      <th>condition</th>\n",
       "      <th>...</th>\n",
       "      <th>drive</th>\n",
       "      <th>size</th>\n",
       "      <th>type</th>\n",
       "      <th>paint_color</th>\n",
       "      <th>image_url</th>\n",
       "      <th>description</th>\n",
       "      <th>state</th>\n",
       "      <th>lat</th>\n",
       "      <th>long</th>\n",
       "      <th>posting_date</th>\n",
       "    </tr>\n",
       "  </thead>\n",
       "  <tbody>\n",
       "    <tr>\n",
       "      <th>0</th>\n",
       "      <td>0</td>\n",
       "      <td>7240372487</td>\n",
       "      <td>https://auburn.craigslist.org/ctd/d/auburn-uni...</td>\n",
       "      <td>auburn</td>\n",
       "      <td>https://auburn.craigslist.org</td>\n",
       "      <td>35990</td>\n",
       "      <td>2010.0</td>\n",
       "      <td>chevrolet</td>\n",
       "      <td>corvette grand sport</td>\n",
       "      <td>good</td>\n",
       "      <td>...</td>\n",
       "      <td>rwd</td>\n",
       "      <td>NaN</td>\n",
       "      <td>other</td>\n",
       "      <td>NaN</td>\n",
       "      <td>https://images.craigslist.org/00N0N_ipkbHVZYf4...</td>\n",
       "      <td>Carvana is the safer way to buy a car During t...</td>\n",
       "      <td>al</td>\n",
       "      <td>32.590000</td>\n",
       "      <td>-85.480000</td>\n",
       "      <td>2020-12-02T08:11:30-0600</td>\n",
       "    </tr>\n",
       "    <tr>\n",
       "      <th>1</th>\n",
       "      <td>1</td>\n",
       "      <td>7240309422</td>\n",
       "      <td>https://auburn.craigslist.org/cto/d/auburn-201...</td>\n",
       "      <td>auburn</td>\n",
       "      <td>https://auburn.craigslist.org</td>\n",
       "      <td>7500</td>\n",
       "      <td>2014.0</td>\n",
       "      <td>hyundai</td>\n",
       "      <td>sonata</td>\n",
       "      <td>excellent</td>\n",
       "      <td>...</td>\n",
       "      <td>fwd</td>\n",
       "      <td>NaN</td>\n",
       "      <td>sedan</td>\n",
       "      <td>NaN</td>\n",
       "      <td>https://images.craigslist.org/00s0s_gBHYmJ5o7y...</td>\n",
       "      <td>I'll move to another city and try to sell my c...</td>\n",
       "      <td>al</td>\n",
       "      <td>32.547500</td>\n",
       "      <td>-85.468200</td>\n",
       "      <td>2020-12-02T02:11:50-0600</td>\n",
       "    </tr>\n",
       "    <tr>\n",
       "      <th>2</th>\n",
       "      <td>2</td>\n",
       "      <td>7240224296</td>\n",
       "      <td>https://auburn.craigslist.org/cto/d/auburn-200...</td>\n",
       "      <td>auburn</td>\n",
       "      <td>https://auburn.craigslist.org</td>\n",
       "      <td>4900</td>\n",
       "      <td>2006.0</td>\n",
       "      <td>bmw</td>\n",
       "      <td>x3 3.0i</td>\n",
       "      <td>good</td>\n",
       "      <td>...</td>\n",
       "      <td>NaN</td>\n",
       "      <td>NaN</td>\n",
       "      <td>SUV</td>\n",
       "      <td>blue</td>\n",
       "      <td>https://images.craigslist.org/00B0B_5zgEGWPOrt...</td>\n",
       "      <td>Clean 2006 BMW X3 3.0I.  Beautiful and rare Bl...</td>\n",
       "      <td>al</td>\n",
       "      <td>32.616807</td>\n",
       "      <td>-85.464149</td>\n",
       "      <td>2020-12-01T19:50:41-0600</td>\n",
       "    </tr>\n",
       "    <tr>\n",
       "      <th>3</th>\n",
       "      <td>3</td>\n",
       "      <td>7240103965</td>\n",
       "      <td>https://auburn.craigslist.org/cto/d/lanett-tru...</td>\n",
       "      <td>auburn</td>\n",
       "      <td>https://auburn.craigslist.org</td>\n",
       "      <td>2000</td>\n",
       "      <td>1974.0</td>\n",
       "      <td>chevrolet</td>\n",
       "      <td>c-10</td>\n",
       "      <td>good</td>\n",
       "      <td>...</td>\n",
       "      <td>rwd</td>\n",
       "      <td>full-size</td>\n",
       "      <td>pickup</td>\n",
       "      <td>blue</td>\n",
       "      <td>https://images.craigslist.org/00M0M_6o7KcDpArw...</td>\n",
       "      <td>1974 chev. truck (LONG BED) NEW starter front ...</td>\n",
       "      <td>al</td>\n",
       "      <td>32.861600</td>\n",
       "      <td>-85.216100</td>\n",
       "      <td>2020-12-01T15:54:45-0600</td>\n",
       "    </tr>\n",
       "    <tr>\n",
       "      <th>4</th>\n",
       "      <td>4</td>\n",
       "      <td>7239983776</td>\n",
       "      <td>https://auburn.craigslist.org/cto/d/auburn-200...</td>\n",
       "      <td>auburn</td>\n",
       "      <td>https://auburn.craigslist.org</td>\n",
       "      <td>19500</td>\n",
       "      <td>2005.0</td>\n",
       "      <td>ford</td>\n",
       "      <td>f350 lariat</td>\n",
       "      <td>excellent</td>\n",
       "      <td>...</td>\n",
       "      <td>4wd</td>\n",
       "      <td>full-size</td>\n",
       "      <td>pickup</td>\n",
       "      <td>blue</td>\n",
       "      <td>https://images.craigslist.org/00p0p_b95l1EgUfl...</td>\n",
       "      <td>2005 Ford F350 Lariat (Bullet Proofed). This t...</td>\n",
       "      <td>al</td>\n",
       "      <td>32.547500</td>\n",
       "      <td>-85.468200</td>\n",
       "      <td>2020-12-01T12:53:56-0600</td>\n",
       "    </tr>\n",
       "    <tr>\n",
       "      <th>...</th>\n",
       "      <td>...</td>\n",
       "      <td>...</td>\n",
       "      <td>...</td>\n",
       "      <td>...</td>\n",
       "      <td>...</td>\n",
       "      <td>...</td>\n",
       "      <td>...</td>\n",
       "      <td>...</td>\n",
       "      <td>...</td>\n",
       "      <td>...</td>\n",
       "      <td>...</td>\n",
       "      <td>...</td>\n",
       "      <td>...</td>\n",
       "      <td>...</td>\n",
       "      <td>...</td>\n",
       "      <td>...</td>\n",
       "      <td>...</td>\n",
       "      <td>...</td>\n",
       "      <td>...</td>\n",
       "      <td>...</td>\n",
       "      <td>...</td>\n",
       "    </tr>\n",
       "    <tr>\n",
       "      <th>458208</th>\n",
       "      <td>458208</td>\n",
       "      <td>7240959076</td>\n",
       "      <td>https://wausau.craigslist.org/ctd/d/wisconsin-...</td>\n",
       "      <td>wausau</td>\n",
       "      <td>https://wausau.craigslist.org</td>\n",
       "      <td>14995</td>\n",
       "      <td>2014.0</td>\n",
       "      <td>cadillac</td>\n",
       "      <td>srx</td>\n",
       "      <td>excellent</td>\n",
       "      <td>...</td>\n",
       "      <td>4wd</td>\n",
       "      <td>mid-size</td>\n",
       "      <td>SUV</td>\n",
       "      <td>silver</td>\n",
       "      <td>https://images.craigslist.org/00808_1bVcaYZtCy...</td>\n",
       "      <td>2014 Cadillac SRX All Wheel Drive Luxury Colle...</td>\n",
       "      <td>wi</td>\n",
       "      <td>44.408867</td>\n",
       "      <td>-89.881210</td>\n",
       "      <td>2020-12-03T08:56:29-0600</td>\n",
       "    </tr>\n",
       "    <tr>\n",
       "      <th>458209</th>\n",
       "      <td>458209</td>\n",
       "      <td>7240954682</td>\n",
       "      <td>https://wausau.craigslist.org/ctd/d/wisconsin-...</td>\n",
       "      <td>wausau</td>\n",
       "      <td>https://wausau.craigslist.org</td>\n",
       "      <td>17895</td>\n",
       "      <td>2018.0</td>\n",
       "      <td>hyundai</td>\n",
       "      <td>tucson</td>\n",
       "      <td>excellent</td>\n",
       "      <td>...</td>\n",
       "      <td>4wd</td>\n",
       "      <td>mid-size</td>\n",
       "      <td>SUV</td>\n",
       "      <td>white</td>\n",
       "      <td>https://images.craigslist.org/00l0l_gikkP11dEF...</td>\n",
       "      <td>2018 Hyundai Tucson SE 2.0 I4 AWD.  Carfax ver...</td>\n",
       "      <td>wi</td>\n",
       "      <td>44.408867</td>\n",
       "      <td>-89.882240</td>\n",
       "      <td>2020-12-03T08:48:08-0600</td>\n",
       "    </tr>\n",
       "    <tr>\n",
       "      <th>458210</th>\n",
       "      <td>458210</td>\n",
       "      <td>7240645700</td>\n",
       "      <td>https://wyoming.craigslist.org/cto/d/sheridan-...</td>\n",
       "      <td>wyoming</td>\n",
       "      <td>https://wyoming.craigslist.org</td>\n",
       "      <td>17900</td>\n",
       "      <td>2014.0</td>\n",
       "      <td>cadillac</td>\n",
       "      <td>cts coupe awd</td>\n",
       "      <td>excellent</td>\n",
       "      <td>...</td>\n",
       "      <td>4wd</td>\n",
       "      <td>mid-size</td>\n",
       "      <td>coupe</td>\n",
       "      <td>black</td>\n",
       "      <td>https://images.craigslist.org/00t0t_lNnW4cboOG...</td>\n",
       "      <td>53,000 miles. Cosmetically, in near mint condi...</td>\n",
       "      <td>wy</td>\n",
       "      <td>44.784900</td>\n",
       "      <td>-106.964800</td>\n",
       "      <td>2020-12-02T14:09:45-0700</td>\n",
       "    </tr>\n",
       "    <tr>\n",
       "      <th>458211</th>\n",
       "      <td>458211</td>\n",
       "      <td>7240600465</td>\n",
       "      <td>https://wyoming.craigslist.org/cto/d/sheridan-...</td>\n",
       "      <td>wyoming</td>\n",
       "      <td>https://wyoming.craigslist.org</td>\n",
       "      <td>1300</td>\n",
       "      <td>2008.0</td>\n",
       "      <td>jeep</td>\n",
       "      <td>grand cherokee</td>\n",
       "      <td>good</td>\n",
       "      <td>...</td>\n",
       "      <td>4wd</td>\n",
       "      <td>mid-size</td>\n",
       "      <td>SUV</td>\n",
       "      <td>white</td>\n",
       "      <td>https://images.craigslist.org/00C0C_fl0NW1IeJw...</td>\n",
       "      <td>PRICE REDUCTION  Turns out the engine is toast...</td>\n",
       "      <td>wy</td>\n",
       "      <td>44.773500</td>\n",
       "      <td>-106.939600</td>\n",
       "      <td>2020-12-02T13:01:04-0700</td>\n",
       "    </tr>\n",
       "    <tr>\n",
       "      <th>458212</th>\n",
       "      <td>458212</td>\n",
       "      <td>7240562359</td>\n",
       "      <td>https://wyoming.craigslist.org/ctd/d/gilberts-...</td>\n",
       "      <td>wyoming</td>\n",
       "      <td>https://wyoming.craigslist.org</td>\n",
       "      <td>22900</td>\n",
       "      <td>2008.0</td>\n",
       "      <td>NaN</td>\n",
       "      <td>International 4300</td>\n",
       "      <td>NaN</td>\n",
       "      <td>...</td>\n",
       "      <td>NaN</td>\n",
       "      <td>NaN</td>\n",
       "      <td>NaN</td>\n",
       "      <td>NaN</td>\n",
       "      <td>https://images.craigslist.org/00k0k_77qSSp6sQC...</td>\n",
       "      <td>*** SHIPPING AVAILABLE DIRECTLY TO YOU. CALL F...</td>\n",
       "      <td>wy</td>\n",
       "      <td>42.117656</td>\n",
       "      <td>-88.436954</td>\n",
       "      <td>2020-12-02T12:03:45-0700</td>\n",
       "    </tr>\n",
       "  </tbody>\n",
       "</table>\n",
       "<p>458213 rows × 26 columns</p>\n",
       "</div>"
      ],
      "text/plain": [
       "        Unnamed: 0          id  \\\n",
       "0                0  7240372487   \n",
       "1                1  7240309422   \n",
       "2                2  7240224296   \n",
       "3                3  7240103965   \n",
       "4                4  7239983776   \n",
       "...            ...         ...   \n",
       "458208      458208  7240959076   \n",
       "458209      458209  7240954682   \n",
       "458210      458210  7240645700   \n",
       "458211      458211  7240600465   \n",
       "458212      458212  7240562359   \n",
       "\n",
       "                                                      url   region  \\\n",
       "0       https://auburn.craigslist.org/ctd/d/auburn-uni...   auburn   \n",
       "1       https://auburn.craigslist.org/cto/d/auburn-201...   auburn   \n",
       "2       https://auburn.craigslist.org/cto/d/auburn-200...   auburn   \n",
       "3       https://auburn.craigslist.org/cto/d/lanett-tru...   auburn   \n",
       "4       https://auburn.craigslist.org/cto/d/auburn-200...   auburn   \n",
       "...                                                   ...      ...   \n",
       "458208  https://wausau.craigslist.org/ctd/d/wisconsin-...   wausau   \n",
       "458209  https://wausau.craigslist.org/ctd/d/wisconsin-...   wausau   \n",
       "458210  https://wyoming.craigslist.org/cto/d/sheridan-...  wyoming   \n",
       "458211  https://wyoming.craigslist.org/cto/d/sheridan-...  wyoming   \n",
       "458212  https://wyoming.craigslist.org/ctd/d/gilberts-...  wyoming   \n",
       "\n",
       "                            region_url  price    year manufacturer  \\\n",
       "0        https://auburn.craigslist.org  35990  2010.0    chevrolet   \n",
       "1        https://auburn.craigslist.org   7500  2014.0      hyundai   \n",
       "2        https://auburn.craigslist.org   4900  2006.0          bmw   \n",
       "3        https://auburn.craigslist.org   2000  1974.0    chevrolet   \n",
       "4        https://auburn.craigslist.org  19500  2005.0         ford   \n",
       "...                                ...    ...     ...          ...   \n",
       "458208   https://wausau.craigslist.org  14995  2014.0     cadillac   \n",
       "458209   https://wausau.craigslist.org  17895  2018.0      hyundai   \n",
       "458210  https://wyoming.craigslist.org  17900  2014.0     cadillac   \n",
       "458211  https://wyoming.craigslist.org   1300  2008.0         jeep   \n",
       "458212  https://wyoming.craigslist.org  22900  2008.0          NaN   \n",
       "\n",
       "                       model  condition  ... drive       size    type  \\\n",
       "0       corvette grand sport       good  ...   rwd        NaN   other   \n",
       "1                     sonata  excellent  ...   fwd        NaN   sedan   \n",
       "2                    x3 3.0i       good  ...   NaN        NaN     SUV   \n",
       "3                       c-10       good  ...   rwd  full-size  pickup   \n",
       "4                f350 lariat  excellent  ...   4wd  full-size  pickup   \n",
       "...                      ...        ...  ...   ...        ...     ...   \n",
       "458208                   srx  excellent  ...   4wd   mid-size     SUV   \n",
       "458209                tucson  excellent  ...   4wd   mid-size     SUV   \n",
       "458210         cts coupe awd  excellent  ...   4wd   mid-size   coupe   \n",
       "458211        grand cherokee       good  ...   4wd   mid-size     SUV   \n",
       "458212    International 4300        NaN  ...   NaN        NaN     NaN   \n",
       "\n",
       "       paint_color                                          image_url  \\\n",
       "0              NaN  https://images.craigslist.org/00N0N_ipkbHVZYf4...   \n",
       "1              NaN  https://images.craigslist.org/00s0s_gBHYmJ5o7y...   \n",
       "2             blue  https://images.craigslist.org/00B0B_5zgEGWPOrt...   \n",
       "3             blue  https://images.craigslist.org/00M0M_6o7KcDpArw...   \n",
       "4             blue  https://images.craigslist.org/00p0p_b95l1EgUfl...   \n",
       "...            ...                                                ...   \n",
       "458208      silver  https://images.craigslist.org/00808_1bVcaYZtCy...   \n",
       "458209       white  https://images.craigslist.org/00l0l_gikkP11dEF...   \n",
       "458210       black  https://images.craigslist.org/00t0t_lNnW4cboOG...   \n",
       "458211       white  https://images.craigslist.org/00C0C_fl0NW1IeJw...   \n",
       "458212         NaN  https://images.craigslist.org/00k0k_77qSSp6sQC...   \n",
       "\n",
       "                                              description state        lat  \\\n",
       "0       Carvana is the safer way to buy a car During t...    al  32.590000   \n",
       "1       I'll move to another city and try to sell my c...    al  32.547500   \n",
       "2       Clean 2006 BMW X3 3.0I.  Beautiful and rare Bl...    al  32.616807   \n",
       "3       1974 chev. truck (LONG BED) NEW starter front ...    al  32.861600   \n",
       "4       2005 Ford F350 Lariat (Bullet Proofed). This t...    al  32.547500   \n",
       "...                                                   ...   ...        ...   \n",
       "458208  2014 Cadillac SRX All Wheel Drive Luxury Colle...    wi  44.408867   \n",
       "458209  2018 Hyundai Tucson SE 2.0 I4 AWD.  Carfax ver...    wi  44.408867   \n",
       "458210  53,000 miles. Cosmetically, in near mint condi...    wy  44.784900   \n",
       "458211  PRICE REDUCTION  Turns out the engine is toast...    wy  44.773500   \n",
       "458212  *** SHIPPING AVAILABLE DIRECTLY TO YOU. CALL F...    wy  42.117656   \n",
       "\n",
       "              long              posting_date  \n",
       "0       -85.480000  2020-12-02T08:11:30-0600  \n",
       "1       -85.468200  2020-12-02T02:11:50-0600  \n",
       "2       -85.464149  2020-12-01T19:50:41-0600  \n",
       "3       -85.216100  2020-12-01T15:54:45-0600  \n",
       "4       -85.468200  2020-12-01T12:53:56-0600  \n",
       "...            ...                       ...  \n",
       "458208  -89.881210  2020-12-03T08:56:29-0600  \n",
       "458209  -89.882240  2020-12-03T08:48:08-0600  \n",
       "458210 -106.964800  2020-12-02T14:09:45-0700  \n",
       "458211 -106.939600  2020-12-02T13:01:04-0700  \n",
       "458212  -88.436954  2020-12-02T12:03:45-0700  \n",
       "\n",
       "[458213 rows x 26 columns]"
      ]
     },
     "execution_count": 24,
     "metadata": {},
     "output_type": "execute_result"
    }
   ],
   "source": [
    "import pandas as pd\n",
    "import numpy as np\n",
    "\n",
    "\n",
    "raw_data = pd.read_csv(\"vehicles.csv\")\n",
    "\n",
    "raw_data\n"
   ]
  },
  {
   "cell_type": "markdown",
   "metadata": {},
   "source": [
    "# Data pre-processing "
   ]
  },
  {
   "cell_type": "code",
   "execution_count": 25,
   "metadata": {
    "scrolled": true
   },
   "outputs": [
    {
     "data": {
      "text/html": [
       "<div>\n",
       "<style scoped>\n",
       "    .dataframe tbody tr th:only-of-type {\n",
       "        vertical-align: middle;\n",
       "    }\n",
       "\n",
       "    .dataframe tbody tr th {\n",
       "        vertical-align: top;\n",
       "    }\n",
       "\n",
       "    .dataframe thead th {\n",
       "        text-align: right;\n",
       "    }\n",
       "</style>\n",
       "<table border=\"1\" class=\"dataframe\">\n",
       "  <thead>\n",
       "    <tr style=\"text-align: right;\">\n",
       "      <th></th>\n",
       "      <th>id</th>\n",
       "      <th>region</th>\n",
       "      <th>price</th>\n",
       "      <th>year</th>\n",
       "      <th>manufacturer</th>\n",
       "      <th>model</th>\n",
       "      <th>condition</th>\n",
       "      <th>cylinders</th>\n",
       "      <th>fuel</th>\n",
       "      <th>odometer</th>\n",
       "      <th>title_status</th>\n",
       "      <th>transmission</th>\n",
       "      <th>drive</th>\n",
       "      <th>size</th>\n",
       "      <th>type</th>\n",
       "      <th>paint_color</th>\n",
       "    </tr>\n",
       "  </thead>\n",
       "  <tbody>\n",
       "    <tr>\n",
       "      <th>0</th>\n",
       "      <td>7240372487</td>\n",
       "      <td>auburn</td>\n",
       "      <td>35990</td>\n",
       "      <td>2010.0</td>\n",
       "      <td>chevrolet</td>\n",
       "      <td>corvette grand sport</td>\n",
       "      <td>good</td>\n",
       "      <td>8 cylinders</td>\n",
       "      <td>gas</td>\n",
       "      <td>32742.0</td>\n",
       "      <td>clean</td>\n",
       "      <td>other</td>\n",
       "      <td>rwd</td>\n",
       "      <td>NaN</td>\n",
       "      <td>other</td>\n",
       "      <td>NaN</td>\n",
       "    </tr>\n",
       "    <tr>\n",
       "      <th>1</th>\n",
       "      <td>7240309422</td>\n",
       "      <td>auburn</td>\n",
       "      <td>7500</td>\n",
       "      <td>2014.0</td>\n",
       "      <td>hyundai</td>\n",
       "      <td>sonata</td>\n",
       "      <td>excellent</td>\n",
       "      <td>4 cylinders</td>\n",
       "      <td>gas</td>\n",
       "      <td>93600.0</td>\n",
       "      <td>clean</td>\n",
       "      <td>automatic</td>\n",
       "      <td>fwd</td>\n",
       "      <td>NaN</td>\n",
       "      <td>sedan</td>\n",
       "      <td>NaN</td>\n",
       "    </tr>\n",
       "    <tr>\n",
       "      <th>2</th>\n",
       "      <td>7240224296</td>\n",
       "      <td>auburn</td>\n",
       "      <td>4900</td>\n",
       "      <td>2006.0</td>\n",
       "      <td>bmw</td>\n",
       "      <td>x3 3.0i</td>\n",
       "      <td>good</td>\n",
       "      <td>6 cylinders</td>\n",
       "      <td>gas</td>\n",
       "      <td>87046.0</td>\n",
       "      <td>clean</td>\n",
       "      <td>automatic</td>\n",
       "      <td>NaN</td>\n",
       "      <td>NaN</td>\n",
       "      <td>SUV</td>\n",
       "      <td>blue</td>\n",
       "    </tr>\n",
       "    <tr>\n",
       "      <th>3</th>\n",
       "      <td>7240103965</td>\n",
       "      <td>auburn</td>\n",
       "      <td>2000</td>\n",
       "      <td>1974.0</td>\n",
       "      <td>chevrolet</td>\n",
       "      <td>c-10</td>\n",
       "      <td>good</td>\n",
       "      <td>4 cylinders</td>\n",
       "      <td>gas</td>\n",
       "      <td>190000.0</td>\n",
       "      <td>clean</td>\n",
       "      <td>automatic</td>\n",
       "      <td>rwd</td>\n",
       "      <td>full-size</td>\n",
       "      <td>pickup</td>\n",
       "      <td>blue</td>\n",
       "    </tr>\n",
       "    <tr>\n",
       "      <th>4</th>\n",
       "      <td>7239983776</td>\n",
       "      <td>auburn</td>\n",
       "      <td>19500</td>\n",
       "      <td>2005.0</td>\n",
       "      <td>ford</td>\n",
       "      <td>f350 lariat</td>\n",
       "      <td>excellent</td>\n",
       "      <td>8 cylinders</td>\n",
       "      <td>diesel</td>\n",
       "      <td>116000.0</td>\n",
       "      <td>lien</td>\n",
       "      <td>automatic</td>\n",
       "      <td>4wd</td>\n",
       "      <td>full-size</td>\n",
       "      <td>pickup</td>\n",
       "      <td>blue</td>\n",
       "    </tr>\n",
       "    <tr>\n",
       "      <th>...</th>\n",
       "      <td>...</td>\n",
       "      <td>...</td>\n",
       "      <td>...</td>\n",
       "      <td>...</td>\n",
       "      <td>...</td>\n",
       "      <td>...</td>\n",
       "      <td>...</td>\n",
       "      <td>...</td>\n",
       "      <td>...</td>\n",
       "      <td>...</td>\n",
       "      <td>...</td>\n",
       "      <td>...</td>\n",
       "      <td>...</td>\n",
       "      <td>...</td>\n",
       "      <td>...</td>\n",
       "      <td>...</td>\n",
       "    </tr>\n",
       "    <tr>\n",
       "      <th>458208</th>\n",
       "      <td>7240959076</td>\n",
       "      <td>wausau</td>\n",
       "      <td>14995</td>\n",
       "      <td>2014.0</td>\n",
       "      <td>cadillac</td>\n",
       "      <td>srx</td>\n",
       "      <td>excellent</td>\n",
       "      <td>6 cylinders</td>\n",
       "      <td>gas</td>\n",
       "      <td>83790.0</td>\n",
       "      <td>clean</td>\n",
       "      <td>automatic</td>\n",
       "      <td>4wd</td>\n",
       "      <td>mid-size</td>\n",
       "      <td>SUV</td>\n",
       "      <td>silver</td>\n",
       "    </tr>\n",
       "    <tr>\n",
       "      <th>458209</th>\n",
       "      <td>7240954682</td>\n",
       "      <td>wausau</td>\n",
       "      <td>17895</td>\n",
       "      <td>2018.0</td>\n",
       "      <td>hyundai</td>\n",
       "      <td>tucson</td>\n",
       "      <td>excellent</td>\n",
       "      <td>4 cylinders</td>\n",
       "      <td>gas</td>\n",
       "      <td>31888.0</td>\n",
       "      <td>clean</td>\n",
       "      <td>automatic</td>\n",
       "      <td>4wd</td>\n",
       "      <td>mid-size</td>\n",
       "      <td>SUV</td>\n",
       "      <td>white</td>\n",
       "    </tr>\n",
       "    <tr>\n",
       "      <th>458210</th>\n",
       "      <td>7240645700</td>\n",
       "      <td>wyoming</td>\n",
       "      <td>17900</td>\n",
       "      <td>2014.0</td>\n",
       "      <td>cadillac</td>\n",
       "      <td>cts coupe awd</td>\n",
       "      <td>excellent</td>\n",
       "      <td>6 cylinders</td>\n",
       "      <td>gas</td>\n",
       "      <td>53000.0</td>\n",
       "      <td>clean</td>\n",
       "      <td>automatic</td>\n",
       "      <td>4wd</td>\n",
       "      <td>mid-size</td>\n",
       "      <td>coupe</td>\n",
       "      <td>black</td>\n",
       "    </tr>\n",
       "    <tr>\n",
       "      <th>458211</th>\n",
       "      <td>7240600465</td>\n",
       "      <td>wyoming</td>\n",
       "      <td>1300</td>\n",
       "      <td>2008.0</td>\n",
       "      <td>jeep</td>\n",
       "      <td>grand cherokee</td>\n",
       "      <td>good</td>\n",
       "      <td>8 cylinders</td>\n",
       "      <td>gas</td>\n",
       "      <td>164000.0</td>\n",
       "      <td>clean</td>\n",
       "      <td>automatic</td>\n",
       "      <td>4wd</td>\n",
       "      <td>mid-size</td>\n",
       "      <td>SUV</td>\n",
       "      <td>white</td>\n",
       "    </tr>\n",
       "    <tr>\n",
       "      <th>458212</th>\n",
       "      <td>7240562359</td>\n",
       "      <td>wyoming</td>\n",
       "      <td>22900</td>\n",
       "      <td>2008.0</td>\n",
       "      <td>NaN</td>\n",
       "      <td>International 4300</td>\n",
       "      <td>NaN</td>\n",
       "      <td>NaN</td>\n",
       "      <td>diesel</td>\n",
       "      <td>164000.0</td>\n",
       "      <td>clean</td>\n",
       "      <td>automatic</td>\n",
       "      <td>NaN</td>\n",
       "      <td>NaN</td>\n",
       "      <td>NaN</td>\n",
       "      <td>NaN</td>\n",
       "    </tr>\n",
       "  </tbody>\n",
       "</table>\n",
       "<p>458213 rows × 16 columns</p>\n",
       "</div>"
      ],
      "text/plain": [
       "                id   region  price    year manufacturer                 model  \\\n",
       "0       7240372487   auburn  35990  2010.0    chevrolet  corvette grand sport   \n",
       "1       7240309422   auburn   7500  2014.0      hyundai                sonata   \n",
       "2       7240224296   auburn   4900  2006.0          bmw               x3 3.0i   \n",
       "3       7240103965   auburn   2000  1974.0    chevrolet                  c-10   \n",
       "4       7239983776   auburn  19500  2005.0         ford           f350 lariat   \n",
       "...            ...      ...    ...     ...          ...                   ...   \n",
       "458208  7240959076   wausau  14995  2014.0     cadillac                   srx   \n",
       "458209  7240954682   wausau  17895  2018.0      hyundai                tucson   \n",
       "458210  7240645700  wyoming  17900  2014.0     cadillac         cts coupe awd   \n",
       "458211  7240600465  wyoming   1300  2008.0         jeep        grand cherokee   \n",
       "458212  7240562359  wyoming  22900  2008.0          NaN    International 4300   \n",
       "\n",
       "        condition    cylinders    fuel  odometer title_status transmission  \\\n",
       "0            good  8 cylinders     gas   32742.0        clean        other   \n",
       "1       excellent  4 cylinders     gas   93600.0        clean    automatic   \n",
       "2            good  6 cylinders     gas   87046.0        clean    automatic   \n",
       "3            good  4 cylinders     gas  190000.0        clean    automatic   \n",
       "4       excellent  8 cylinders  diesel  116000.0         lien    automatic   \n",
       "...           ...          ...     ...       ...          ...          ...   \n",
       "458208  excellent  6 cylinders     gas   83790.0        clean    automatic   \n",
       "458209  excellent  4 cylinders     gas   31888.0        clean    automatic   \n",
       "458210  excellent  6 cylinders     gas   53000.0        clean    automatic   \n",
       "458211       good  8 cylinders     gas  164000.0        clean    automatic   \n",
       "458212        NaN          NaN  diesel  164000.0        clean    automatic   \n",
       "\n",
       "       drive       size    type paint_color  \n",
       "0        rwd        NaN   other         NaN  \n",
       "1        fwd        NaN   sedan         NaN  \n",
       "2        NaN        NaN     SUV        blue  \n",
       "3        rwd  full-size  pickup        blue  \n",
       "4        4wd  full-size  pickup        blue  \n",
       "...      ...        ...     ...         ...  \n",
       "458208   4wd   mid-size     SUV      silver  \n",
       "458209   4wd   mid-size     SUV       white  \n",
       "458210   4wd   mid-size   coupe       black  \n",
       "458211   4wd   mid-size     SUV       white  \n",
       "458212   NaN        NaN     NaN         NaN  \n",
       "\n",
       "[458213 rows x 16 columns]"
      ]
     },
     "execution_count": 25,
     "metadata": {},
     "output_type": "execute_result"
    }
   ],
   "source": [
    "raw_data1 = raw_data\n",
    "cols = [0,2,4,15,20,21,22,23,24,25]\n",
    "raw_data1 = raw_data1.drop(raw_data1.columns[cols], axis=1)\n",
    "#raw_data1.dtypes\n",
    "raw_data1"
   ]
  },
  {
   "cell_type": "markdown",
   "metadata": {},
   "source": [
    "Removing the un-relevant attributes from the dataset namely state id, state, car url, image url,description, latitude, longitude and the posting date(as data set is taken for the year of 2020)"
   ]
  },
  {
   "cell_type": "code",
   "execution_count": 4,
   "metadata": {},
   "outputs": [
    {
     "data": {
      "text/plain": [
       "(411116, 16)"
      ]
     },
     "execution_count": 4,
     "metadata": {},
     "output_type": "execute_result"
    }
   ],
   "source": [
    "raw_data1=raw_data1[(raw_data1.price < 100000) & (raw_data1.price >= 750 )]  #Removing extreme values in the price columns\n",
    "raw_data1.shape"
   ]
  },
  {
   "cell_type": "markdown",
   "metadata": {},
   "source": [
    "Price outliers are removed as the extreme values which are considered to be the outliers"
   ]
  },
  {
   "cell_type": "code",
   "execution_count": 5,
   "metadata": {},
   "outputs": [
    {
     "data": {
      "text/plain": [
       "(349719, 16)"
      ]
     },
     "execution_count": 5,
     "metadata": {},
     "output_type": "execute_result"
    }
   ],
   "source": [
    "#odometer and year values cleaning\n",
    "raw_data1=raw_data1[(raw_data1.odometer < 300000) & (raw_data1.odometer > 1000)]\n",
    "raw_data1=raw_data1[raw_data1.year>1985]\n",
    "raw_data1.shape\n",
    "\n"
   ]
  },
  {
   "cell_type": "markdown",
   "metadata": {},
   "source": [
    "The odometer values which are greaterthan 300k and less than 1000 are considered to be the outliers in the data so they are removed. As the cars are posted in 2020 the cars manufactured in 1985 and older years are excluded as they do not make any significant contribution to the analysis and moreover the data is very small and negligable i.e., as outliers."
   ]
  },
  {
   "cell_type": "code",
   "execution_count": 6,
   "metadata": {},
   "outputs": [
    {
     "data": {
      "text/plain": [
       "id                   0\n",
       "region               0\n",
       "price                0\n",
       "year                 0\n",
       "manufacturer      8895\n",
       "model             2181\n",
       "condition       130953\n",
       "cylinders       114554\n",
       "fuel              2091\n",
       "odometer             0\n",
       "title_status      1386\n",
       "transmission      1488\n",
       "drive            84641\n",
       "size            240918\n",
       "type             64352\n",
       "paint_color      84196\n",
       "dtype: int64"
      ]
     },
     "execution_count": 6,
     "metadata": {},
     "output_type": "execute_result"
    }
   ],
   "source": [
    "#checking for the null values\n",
    "\n",
    "raw_data1.isnull().sum()"
   ]
  },
  {
   "cell_type": "code",
   "execution_count": 7,
   "metadata": {},
   "outputs": [
    {
     "name": "stdout",
     "output_type": "stream",
     "text": [
      "<class 'pandas.core.frame.DataFrame'>\n",
      "Int64Index: 349719 entries, 0 to 458212\n",
      "Data columns (total 14 columns):\n",
      " #   Column        Non-Null Count   Dtype  \n",
      "---  ------        --------------   -----  \n",
      " 0   price         349719 non-null  int64  \n",
      " 1   year          349719 non-null  float64\n",
      " 2   manufacturer  340824 non-null  object \n",
      " 3   model         347538 non-null  object \n",
      " 4   condition     218766 non-null  object \n",
      " 5   cylinders     235165 non-null  object \n",
      " 6   fuel          347628 non-null  object \n",
      " 7   odometer      349719 non-null  float64\n",
      " 8   title_status  348333 non-null  object \n",
      " 9   transmission  348231 non-null  object \n",
      " 10  drive         265078 non-null  object \n",
      " 11  size          108801 non-null  object \n",
      " 12  type          285367 non-null  object \n",
      " 13  paint_color   265523 non-null  object \n",
      "dtypes: float64(2), int64(1), object(11)\n",
      "memory usage: 40.0+ MB\n"
     ]
    }
   ],
   "source": [
    "cols = [0,1]\n",
    "raw_data1 = raw_data1.drop(raw_data1.columns[cols], axis=1)\n",
    "raw_data1.info()"
   ]
  },
  {
   "cell_type": "code",
   "execution_count": 8,
   "metadata": {},
   "outputs": [],
   "source": [
    "# cars brought in 2019 are marked as new and from 2017-19 are marked as like new\n",
    "raw_data1.loc[raw_data1.year>=2019, 'condition'] = raw_data1.loc[raw_data1.year>=2019, 'condition'].fillna('new')\n",
    "raw_data1.loc[raw_data1.year>=2017, 'condition'] = raw_data1.loc[raw_data1.year>=2017, 'condition'].fillna('like new')"
   ]
  },
  {
   "cell_type": "markdown",
   "metadata": {},
   "source": [
    "As to fill the  nan values in the data the cars manufactured in year 2019 are considered as new and which are manufactured between the year 2017-2019 are considered as like new"
   ]
  },
  {
   "cell_type": "code",
   "execution_count": 9,
   "metadata": {},
   "outputs": [],
   "source": [
    "#mileage is the major cause for the condition of the car so filling the nan values of comndition using the odometer mean values for the each categoryof condition\n",
    "new_mean_excellent = raw_data1[raw_data1['condition'] == 'excellent']['odometer'].mean()\n",
    "new_mean_good = raw_data1[raw_data1['condition'] == 'good']['odometer'].mean()\n",
    "new_mean_likenew = raw_data1[raw_data1['condition'] == 'like new']['odometer'].mean()\n",
    "new_mean_salvage = raw_data1[raw_data1['condition'] == 'salvage']['odometer'].mean()\n",
    "new_mean_fair = raw_data1[raw_data1['condition'] == 'fair']['odometer'].mean()"
   ]
  },
  {
   "cell_type": "code",
   "execution_count": 10,
   "metadata": {},
   "outputs": [],
   "source": [
    "#using the new mean values of the odometer to fill the nan values of the condition\n",
    "\n",
    "raw_data1.loc[raw_data1['odometer'] <= new_mean_likenew, 'condition'] = raw_data1.loc[raw_data1['odometer'] <= new_mean_likenew, 'condition'].fillna('like new')\n",
    "\n",
    "raw_data1.loc[raw_data1['odometer'] >= new_mean_fair, 'condition'] = raw_data1.loc[raw_data1['odometer'] >= new_mean_fair, 'condition'].fillna('fair')\n",
    "\n",
    "raw_data1.loc[((raw_data1['odometer'] > new_mean_likenew) & \n",
    "       (raw_data1['odometer'] <= new_mean_excellent)), 'condition'] = raw_data1.loc[((raw_data1['odometer'] > new_mean_likenew) & \n",
    "       (raw_data1['odometer'] <= new_mean_excellent)), 'condition'].fillna('excellent')\n",
    "\n",
    "raw_data1.loc[((raw_data1['odometer'] > new_mean_excellent) & \n",
    "       (raw_data1['odometer'] <= new_mean_good)), 'condition'] = raw_data1.loc[((raw_data1['odometer'] > new_mean_excellent) & \n",
    "       (raw_data1['odometer'] <= new_mean_good)), 'condition'].fillna('good')\n",
    "\n",
    "raw_data1.loc[((raw_data1['odometer'] > new_mean_good) & \n",
    "       (raw_data1['odometer'] <= new_mean_fair)), 'condition'] = raw_data1.loc[((raw_data1['odometer'] > new_mean_good) & \n",
    "       (raw_data1['odometer'] <= new_mean_fair)), 'condition'].fillna('salvage')"
   ]
  },
  {
   "cell_type": "markdown",
   "metadata": {},
   "source": [
    "Here as the odometer values are filled and no nan values are present and the nan values condition variable are filled w.r.t the new mean values of the odometer such that a new data variable is derived from the old data variable such that is used to fill the nan values of the condition. "
   ]
  },
  {
   "cell_type": "code",
   "execution_count": 11,
   "metadata": {},
   "outputs": [
    {
     "data": {
      "text/plain": [
       "price                0\n",
       "year                 0\n",
       "manufacturer      8895\n",
       "model             2181\n",
       "condition            0\n",
       "cylinders       114554\n",
       "fuel              2091\n",
       "odometer             0\n",
       "title_status      1386\n",
       "transmission      1488\n",
       "drive            84641\n",
       "size            240918\n",
       "type             64352\n",
       "paint_color      84196\n",
       "dtype: int64"
      ]
     },
     "execution_count": 11,
     "metadata": {},
     "output_type": "execute_result"
    }
   ],
   "source": [
    "raw_data1.isnull().sum()"
   ]
  },
  {
   "cell_type": "code",
   "execution_count": 12,
   "metadata": {},
   "outputs": [
    {
     "name": "stdout",
     "output_type": "stream",
     "text": [
      "Number of Categories in: \n",
      "year = 36\n",
      "model = 23619\n",
      "manufacturer = 43\n",
      "cylinders = 9\n",
      "fuel = 6\n",
      "title_status = 7\n",
      "transmission = 4\n",
      "drive = 4\n",
      "size = 5\n",
      "type = 14\n",
      "paint_color = 13\n"
     ]
    }
   ],
   "source": [
    "print(\"Number of Categories in: \")\n",
    "for ColName in raw_data1[['year','model','manufacturer','cylinders','fuel','title_status','transmission','drive','size','type','paint_color']]:\n",
    "    print(\"{} = {}\".format(ColName, len(raw_data1[ColName].unique())))"
   ]
  },
  {
   "cell_type": "code",
   "execution_count": 13,
   "metadata": {},
   "outputs": [],
   "source": [
    "#filling the other nan values with the most repeated value the attribute\n",
    "def impute_nan_most_frequent_category(raw_data1,ColName):\n",
    "    # .mode()[0] - gives first category name\n",
    "    most_frequent_category=raw_data1[ColName].mode()[0]\n",
    "    # replace nan values with most occured category\n",
    "    raw_data1[ColName + \"_cleaned\"] = raw_data1[ColName]\n",
    "    raw_data1[ColName + \"_cleaned\"].fillna(most_frequent_category,inplace=True)"
   ]
  },
  {
   "cell_type": "code",
   "execution_count": 14,
   "metadata": {},
   "outputs": [
    {
     "data": {
      "text/html": [
       "<div>\n",
       "<style scoped>\n",
       "    .dataframe tbody tr th:only-of-type {\n",
       "        vertical-align: middle;\n",
       "    }\n",
       "\n",
       "    .dataframe tbody tr th {\n",
       "        vertical-align: top;\n",
       "    }\n",
       "\n",
       "    .dataframe thead th {\n",
       "        text-align: right;\n",
       "    }\n",
       "</style>\n",
       "<table border=\"1\" class=\"dataframe\">\n",
       "  <thead>\n",
       "    <tr style=\"text-align: right;\">\n",
       "      <th></th>\n",
       "      <th>price</th>\n",
       "      <th>year</th>\n",
       "      <th>manufacturer</th>\n",
       "      <th>model</th>\n",
       "      <th>condition</th>\n",
       "      <th>cylinders</th>\n",
       "      <th>fuel</th>\n",
       "      <th>odometer</th>\n",
       "      <th>title_status</th>\n",
       "      <th>transmission</th>\n",
       "      <th>...</th>\n",
       "      <th>model_cleaned</th>\n",
       "      <th>manufacturer_cleaned</th>\n",
       "      <th>cylinders_cleaned</th>\n",
       "      <th>fuel_cleaned</th>\n",
       "      <th>title_status_cleaned</th>\n",
       "      <th>transmission_cleaned</th>\n",
       "      <th>drive_cleaned</th>\n",
       "      <th>size_cleaned</th>\n",
       "      <th>type_cleaned</th>\n",
       "      <th>paint_color_cleaned</th>\n",
       "    </tr>\n",
       "  </thead>\n",
       "  <tbody>\n",
       "    <tr>\n",
       "      <th>0</th>\n",
       "      <td>35990</td>\n",
       "      <td>2010.0</td>\n",
       "      <td>chevrolet</td>\n",
       "      <td>corvette grand sport</td>\n",
       "      <td>good</td>\n",
       "      <td>8 cylinders</td>\n",
       "      <td>gas</td>\n",
       "      <td>32742.0</td>\n",
       "      <td>clean</td>\n",
       "      <td>other</td>\n",
       "      <td>...</td>\n",
       "      <td>corvette grand sport</td>\n",
       "      <td>chevrolet</td>\n",
       "      <td>8 cylinders</td>\n",
       "      <td>gas</td>\n",
       "      <td>clean</td>\n",
       "      <td>other</td>\n",
       "      <td>rwd</td>\n",
       "      <td>full-size</td>\n",
       "      <td>other</td>\n",
       "      <td>white</td>\n",
       "    </tr>\n",
       "    <tr>\n",
       "      <th>1</th>\n",
       "      <td>7500</td>\n",
       "      <td>2014.0</td>\n",
       "      <td>hyundai</td>\n",
       "      <td>sonata</td>\n",
       "      <td>excellent</td>\n",
       "      <td>4 cylinders</td>\n",
       "      <td>gas</td>\n",
       "      <td>93600.0</td>\n",
       "      <td>clean</td>\n",
       "      <td>automatic</td>\n",
       "      <td>...</td>\n",
       "      <td>sonata</td>\n",
       "      <td>hyundai</td>\n",
       "      <td>4 cylinders</td>\n",
       "      <td>gas</td>\n",
       "      <td>clean</td>\n",
       "      <td>automatic</td>\n",
       "      <td>fwd</td>\n",
       "      <td>full-size</td>\n",
       "      <td>sedan</td>\n",
       "      <td>white</td>\n",
       "    </tr>\n",
       "    <tr>\n",
       "      <th>2</th>\n",
       "      <td>4900</td>\n",
       "      <td>2006.0</td>\n",
       "      <td>bmw</td>\n",
       "      <td>x3 3.0i</td>\n",
       "      <td>good</td>\n",
       "      <td>6 cylinders</td>\n",
       "      <td>gas</td>\n",
       "      <td>87046.0</td>\n",
       "      <td>clean</td>\n",
       "      <td>automatic</td>\n",
       "      <td>...</td>\n",
       "      <td>x3 3.0i</td>\n",
       "      <td>bmw</td>\n",
       "      <td>6 cylinders</td>\n",
       "      <td>gas</td>\n",
       "      <td>clean</td>\n",
       "      <td>automatic</td>\n",
       "      <td>4wd</td>\n",
       "      <td>full-size</td>\n",
       "      <td>SUV</td>\n",
       "      <td>blue</td>\n",
       "    </tr>\n",
       "    <tr>\n",
       "      <th>4</th>\n",
       "      <td>19500</td>\n",
       "      <td>2005.0</td>\n",
       "      <td>ford</td>\n",
       "      <td>f350 lariat</td>\n",
       "      <td>excellent</td>\n",
       "      <td>8 cylinders</td>\n",
       "      <td>diesel</td>\n",
       "      <td>116000.0</td>\n",
       "      <td>lien</td>\n",
       "      <td>automatic</td>\n",
       "      <td>...</td>\n",
       "      <td>f350 lariat</td>\n",
       "      <td>ford</td>\n",
       "      <td>8 cylinders</td>\n",
       "      <td>diesel</td>\n",
       "      <td>lien</td>\n",
       "      <td>automatic</td>\n",
       "      <td>4wd</td>\n",
       "      <td>full-size</td>\n",
       "      <td>pickup</td>\n",
       "      <td>blue</td>\n",
       "    </tr>\n",
       "    <tr>\n",
       "      <th>5</th>\n",
       "      <td>29590</td>\n",
       "      <td>2016.0</td>\n",
       "      <td>toyota</td>\n",
       "      <td>tacoma double cab sr5</td>\n",
       "      <td>good</td>\n",
       "      <td>6 cylinders</td>\n",
       "      <td>gas</td>\n",
       "      <td>33290.0</td>\n",
       "      <td>clean</td>\n",
       "      <td>other</td>\n",
       "      <td>...</td>\n",
       "      <td>tacoma double cab sr5</td>\n",
       "      <td>toyota</td>\n",
       "      <td>6 cylinders</td>\n",
       "      <td>gas</td>\n",
       "      <td>clean</td>\n",
       "      <td>other</td>\n",
       "      <td>4wd</td>\n",
       "      <td>full-size</td>\n",
       "      <td>pickup</td>\n",
       "      <td>red</td>\n",
       "    </tr>\n",
       "  </tbody>\n",
       "</table>\n",
       "<p>5 rows × 25 columns</p>\n",
       "</div>"
      ],
      "text/plain": [
       "   price    year manufacturer                  model  condition    cylinders  \\\n",
       "0  35990  2010.0    chevrolet   corvette grand sport       good  8 cylinders   \n",
       "1   7500  2014.0      hyundai                 sonata  excellent  4 cylinders   \n",
       "2   4900  2006.0          bmw                x3 3.0i       good  6 cylinders   \n",
       "4  19500  2005.0         ford            f350 lariat  excellent  8 cylinders   \n",
       "5  29590  2016.0       toyota  tacoma double cab sr5       good  6 cylinders   \n",
       "\n",
       "     fuel  odometer title_status transmission  ...          model_cleaned  \\\n",
       "0     gas   32742.0        clean        other  ...   corvette grand sport   \n",
       "1     gas   93600.0        clean    automatic  ...                 sonata   \n",
       "2     gas   87046.0        clean    automatic  ...                x3 3.0i   \n",
       "4  diesel  116000.0         lien    automatic  ...            f350 lariat   \n",
       "5     gas   33290.0        clean        other  ...  tacoma double cab sr5   \n",
       "\n",
       "  manufacturer_cleaned cylinders_cleaned fuel_cleaned  title_status_cleaned  \\\n",
       "0            chevrolet       8 cylinders          gas                 clean   \n",
       "1              hyundai       4 cylinders          gas                 clean   \n",
       "2                  bmw       6 cylinders          gas                 clean   \n",
       "4                 ford       8 cylinders       diesel                  lien   \n",
       "5               toyota       6 cylinders          gas                 clean   \n",
       "\n",
       "  transmission_cleaned drive_cleaned size_cleaned type_cleaned  \\\n",
       "0                other           rwd    full-size        other   \n",
       "1            automatic           fwd    full-size        sedan   \n",
       "2            automatic           4wd    full-size          SUV   \n",
       "4            automatic           4wd    full-size       pickup   \n",
       "5                other           4wd    full-size       pickup   \n",
       "\n",
       "  paint_color_cleaned  \n",
       "0               white  \n",
       "1               white  \n",
       "2                blue  \n",
       "4                blue  \n",
       "5                 red  \n",
       "\n",
       "[5 rows x 25 columns]"
      ]
     },
     "execution_count": 14,
     "metadata": {},
     "output_type": "execute_result"
    }
   ],
   "source": [
    "for Columns in ['year','model','manufacturer','cylinders','fuel','title_status','transmission','drive','size','type','paint_color']:\n",
    "    impute_nan_most_frequent_category(raw_data1,Columns)\n",
    "    \n",
    "raw_data1.head()"
   ]
  },
  {
   "cell_type": "code",
   "execution_count": 15,
   "metadata": {},
   "outputs": [
    {
     "data": {
      "text/html": [
       "<div>\n",
       "<style scoped>\n",
       "    .dataframe tbody tr th:only-of-type {\n",
       "        vertical-align: middle;\n",
       "    }\n",
       "\n",
       "    .dataframe tbody tr th {\n",
       "        vertical-align: top;\n",
       "    }\n",
       "\n",
       "    .dataframe thead th {\n",
       "        text-align: right;\n",
       "    }\n",
       "</style>\n",
       "<table border=\"1\" class=\"dataframe\">\n",
       "  <thead>\n",
       "    <tr style=\"text-align: right;\">\n",
       "      <th></th>\n",
       "      <th>price</th>\n",
       "      <th>condition</th>\n",
       "      <th>odometer</th>\n",
       "      <th>year_cleaned</th>\n",
       "      <th>model_cleaned</th>\n",
       "      <th>manufacturer_cleaned</th>\n",
       "      <th>cylinders_cleaned</th>\n",
       "      <th>fuel_cleaned</th>\n",
       "      <th>title_status_cleaned</th>\n",
       "      <th>transmission_cleaned</th>\n",
       "      <th>drive_cleaned</th>\n",
       "      <th>size_cleaned</th>\n",
       "      <th>type_cleaned</th>\n",
       "      <th>paint_color_cleaned</th>\n",
       "    </tr>\n",
       "  </thead>\n",
       "  <tbody>\n",
       "    <tr>\n",
       "      <th>0</th>\n",
       "      <td>35990</td>\n",
       "      <td>good</td>\n",
       "      <td>32742.0</td>\n",
       "      <td>2010.0</td>\n",
       "      <td>corvette grand sport</td>\n",
       "      <td>chevrolet</td>\n",
       "      <td>8 cylinders</td>\n",
       "      <td>gas</td>\n",
       "      <td>clean</td>\n",
       "      <td>other</td>\n",
       "      <td>rwd</td>\n",
       "      <td>full-size</td>\n",
       "      <td>other</td>\n",
       "      <td>white</td>\n",
       "    </tr>\n",
       "    <tr>\n",
       "      <th>1</th>\n",
       "      <td>7500</td>\n",
       "      <td>excellent</td>\n",
       "      <td>93600.0</td>\n",
       "      <td>2014.0</td>\n",
       "      <td>sonata</td>\n",
       "      <td>hyundai</td>\n",
       "      <td>4 cylinders</td>\n",
       "      <td>gas</td>\n",
       "      <td>clean</td>\n",
       "      <td>automatic</td>\n",
       "      <td>fwd</td>\n",
       "      <td>full-size</td>\n",
       "      <td>sedan</td>\n",
       "      <td>white</td>\n",
       "    </tr>\n",
       "    <tr>\n",
       "      <th>2</th>\n",
       "      <td>4900</td>\n",
       "      <td>good</td>\n",
       "      <td>87046.0</td>\n",
       "      <td>2006.0</td>\n",
       "      <td>x3 3.0i</td>\n",
       "      <td>bmw</td>\n",
       "      <td>6 cylinders</td>\n",
       "      <td>gas</td>\n",
       "      <td>clean</td>\n",
       "      <td>automatic</td>\n",
       "      <td>4wd</td>\n",
       "      <td>full-size</td>\n",
       "      <td>SUV</td>\n",
       "      <td>blue</td>\n",
       "    </tr>\n",
       "    <tr>\n",
       "      <th>4</th>\n",
       "      <td>19500</td>\n",
       "      <td>excellent</td>\n",
       "      <td>116000.0</td>\n",
       "      <td>2005.0</td>\n",
       "      <td>f350 lariat</td>\n",
       "      <td>ford</td>\n",
       "      <td>8 cylinders</td>\n",
       "      <td>diesel</td>\n",
       "      <td>lien</td>\n",
       "      <td>automatic</td>\n",
       "      <td>4wd</td>\n",
       "      <td>full-size</td>\n",
       "      <td>pickup</td>\n",
       "      <td>blue</td>\n",
       "    </tr>\n",
       "    <tr>\n",
       "      <th>5</th>\n",
       "      <td>29590</td>\n",
       "      <td>good</td>\n",
       "      <td>33290.0</td>\n",
       "      <td>2016.0</td>\n",
       "      <td>tacoma double cab sr5</td>\n",
       "      <td>toyota</td>\n",
       "      <td>6 cylinders</td>\n",
       "      <td>gas</td>\n",
       "      <td>clean</td>\n",
       "      <td>other</td>\n",
       "      <td>4wd</td>\n",
       "      <td>full-size</td>\n",
       "      <td>pickup</td>\n",
       "      <td>red</td>\n",
       "    </tr>\n",
       "  </tbody>\n",
       "</table>\n",
       "</div>"
      ],
      "text/plain": [
       "   price  condition  odometer  year_cleaned          model_cleaned  \\\n",
       "0  35990       good   32742.0        2010.0   corvette grand sport   \n",
       "1   7500  excellent   93600.0        2014.0                 sonata   \n",
       "2   4900       good   87046.0        2006.0                x3 3.0i   \n",
       "4  19500  excellent  116000.0        2005.0            f350 lariat   \n",
       "5  29590       good   33290.0        2016.0  tacoma double cab sr5   \n",
       "\n",
       "  manufacturer_cleaned cylinders_cleaned fuel_cleaned title_status_cleaned  \\\n",
       "0            chevrolet       8 cylinders          gas                clean   \n",
       "1              hyundai       4 cylinders          gas                clean   \n",
       "2                  bmw       6 cylinders          gas                clean   \n",
       "4                 ford       8 cylinders       diesel                 lien   \n",
       "5               toyota       6 cylinders          gas                clean   \n",
       "\n",
       "  transmission_cleaned drive_cleaned size_cleaned type_cleaned  \\\n",
       "0                other           rwd    full-size        other   \n",
       "1            automatic           fwd    full-size        sedan   \n",
       "2            automatic           4wd    full-size          SUV   \n",
       "4            automatic           4wd    full-size       pickup   \n",
       "5                other           4wd    full-size       pickup   \n",
       "\n",
       "  paint_color_cleaned  \n",
       "0               white  \n",
       "1               white  \n",
       "2                blue  \n",
       "4                blue  \n",
       "5                 red  "
      ]
     },
     "execution_count": 15,
     "metadata": {},
     "output_type": "execute_result"
    }
   ],
   "source": [
    "raw_data1= raw_data1.drop(['year','model','manufacturer','cylinders','fuel','title_status','transmission','drive','size','type','paint_color'], axis = 1)\n",
    "raw_data1.head()"
   ]
  },
  {
   "cell_type": "code",
   "execution_count": 16,
   "metadata": {
    "scrolled": true
   },
   "outputs": [
    {
     "data": {
      "text/plain": [
       "price                   0\n",
       "condition               0\n",
       "odometer                0\n",
       "year_cleaned            0\n",
       "model_cleaned           0\n",
       "manufacturer_cleaned    0\n",
       "cylinders_cleaned       0\n",
       "fuel_cleaned            0\n",
       "title_status_cleaned    0\n",
       "transmission_cleaned    0\n",
       "drive_cleaned           0\n",
       "size_cleaned            0\n",
       "type_cleaned            0\n",
       "paint_color_cleaned     0\n",
       "dtype: int64"
      ]
     },
     "execution_count": 16,
     "metadata": {},
     "output_type": "execute_result"
    }
   ],
   "source": [
    "raw_data1.isnull().sum()"
   ]
  },
  {
   "cell_type": "markdown",
   "metadata": {},
   "source": [
    "The other attributes are with the categorical variables with missing values, So they are filled with the values of the most repeating among them so that no outliers happens and no new variable is needed to re construct the pattern."
   ]
  },
  {
   "cell_type": "code",
   "execution_count": 17,
   "metadata": {},
   "outputs": [
    {
     "data": {
      "text/plain": [
       "349719"
      ]
     },
     "execution_count": 17,
     "metadata": {},
     "output_type": "execute_result"
    }
   ],
   "source": [
    "len(raw_data1.index)"
   ]
  },
  {
   "cell_type": "markdown",
   "metadata": {},
   "source": [
    "before cleaning the dataset there were 458213 rows were reduced to 349719 which was attained after removing outliers and consizing the data fit for the algorithm and analysis."
   ]
  },
  {
   "cell_type": "markdown",
   "metadata": {},
   "source": [
    "# Univariate and bivariate analysis for feature engineering\n"
   ]
  },
  {
   "cell_type": "code",
   "execution_count": 18,
   "metadata": {},
   "outputs": [],
   "source": [
    "clean_data = raw_data1 "
   ]
  },
  {
   "cell_type": "code",
   "execution_count": 19,
   "metadata": {},
   "outputs": [],
   "source": [
    "import warnings\n",
    "warnings.filterwarnings('ignore')\n",
    "import matplotlib.pyplot as plt\n",
    "import seaborn as sns"
   ]
  },
  {
   "cell_type": "code",
   "execution_count": 20,
   "metadata": {},
   "outputs": [
    {
     "data": {
      "image/png": "[encoded data removed]",
      "text/plain": [
       "<Figure size 1440x576 with 2 Axes>"
      ]
     },
     "metadata": {
      "needs_background": "light"
     },
     "output_type": "display_data"
    }
   ],
   "source": [
    "#plotting the price spread of the cars\n",
    "plt.figure(figsize=(20,8))\n",
    "\n",
    "plt.subplot(1,2,1)\n",
    "plt.title('Car Price plot')\n",
    "sns.distplot(clean_data.price)\n",
    "\n",
    "plt.subplot(1,2,2)\n",
    "plt.title('Car Price Spread box plot')\n",
    "sns.boxplot(y=clean_data.price)\n",
    "\n",
    "plt.show()"
   ]
  },
  {
   "cell_type": "markdown",
   "metadata": {},
   "source": [
    "this clearly explains the car price values have a meadian around $15K-$17K which can be affordable by maximum all groups of people. higher end cars with higher prices are also available with min value of $50K which are for high class people"
   ]
  },
  {
   "cell_type": "code",
   "execution_count": 21,
   "metadata": {},
   "outputs": [
    {
     "data": {
      "text/plain": [
       "[Text(0, 0.5, 'Frequency of Manufacturer'), Text(0.5, 0, 'Manufacturer')]"
      ]
     },
     "execution_count": 21,
     "metadata": {},
     "output_type": "execute_result"
    },
    {
     "data": {
      "image/png": "[encoded data removed]",
      "text/plain": [
       "<Figure size 1080x432 with 1 Axes>"
      ]
     },
     "metadata": {
      "needs_background": "light"
     },
     "output_type": "display_data"
    }
   ],
   "source": [
    "plt.figure(figsize=(15, 6))\n",
    "\n",
    "plt.plot(1,3)\n",
    "plt1 = clean_data.manufacturer_cleaned.value_counts().plot(kind = 'bar')\n",
    "plt.title('Manufaturers plot')\n",
    "plt1.set(xlabel = 'Manufacturer', ylabel='Frequency of Manufacturer')"
   ]
  },
  {
   "cell_type": "code",
   "execution_count": 22,
   "metadata": {},
   "outputs": [
    {
     "data": {
      "image/png": "[encoded data removed]",
      "text/plain": [
       "<Figure size 720x432 with 1 Axes>"
      ]
     },
     "metadata": {
      "needs_background": "light"
     },
     "output_type": "display_data"
    }
   ],
   "source": [
    "y = pd.DataFrame(clean_data.groupby(['manufacturer_cleaned'])['price'].mean())\n",
    "y.plot.bar(figsize=(10,6))\n",
    "plt.title('Manufacturer Vs Price')\n",
    "plt.show()"
   ]
  },
  {
   "cell_type": "markdown",
   "metadata": {},
   "source": [
    "This Plot clearly explains the ford cars are having more demand int the market as they are more number cars nearly 68k cars are from the ford company."
   ]
  },
  {
   "cell_type": "code",
   "execution_count": 22,
   "metadata": {},
   "outputs": [
    {
     "data": {
      "text/plain": [
       "[Text(0, 0.5, 'Count'), Text(0.5, 0, 'condition')]"
      ]
     },
     "execution_count": 22,
     "metadata": {},
     "output_type": "execute_result"
    },
    {
     "data": {
      "image/png": "[encoded data removed]",
      "text/plain": [
       "<Figure size 1080x432 with 1 Axes>"
      ]
     },
     "metadata": {
      "needs_background": "light"
     },
     "output_type": "display_data"
    }
   ],
   "source": [
    "#Analysing the car's condition variable\n",
    "plt.figure(figsize=(15, 6))\n",
    "\n",
    "plt.plot(1,3)\n",
    "plt1 = clean_data.condition.value_counts().plot(kind = 'bar')\n",
    "plt.title('Condition plot')\n",
    "plt1.set(xlabel = 'condition', ylabel='Count')"
   ]
  },
  {
   "cell_type": "markdown",
   "metadata": {},
   "source": [
    "Here we can get the analysis where the mean value of odometer the excellent is higher which is also having visually more cars and it is the more repleaated condtion and the next valeu goes to good and the new maximum cars are brought in the year of 2019 as assumed in the cleaning part of the data. This makes a clear reference eventhough the odometer value is bit higher the cars condition with respect to engine, efficiency and other aspects are better for the usage. "
   ]
  },
  {
   "cell_type": "code",
   "execution_count": 23,
   "metadata": {},
   "outputs": [
    {
     "data": {
      "text/plain": [
       "[Text(0, 0.5, 'Odometer Average'), Text(0.5, 0, 'condition')]"
      ]
     },
     "execution_count": 23,
     "metadata": {},
     "output_type": "execute_result"
    },
    {
     "data": {
      "image/png": "[encoded data removed]",
      "text/plain": [
       "<Figure size 1080x432 with 1 Axes>"
      ]
     },
     "metadata": {
      "needs_background": "light"
     },
     "output_type": "display_data"
    }
   ],
   "source": [
    "#Car odometer values vs condition\n",
    "plt.figure(figsize=(15, 6))\n",
    "\n",
    "plt.plot(1,3)\n",
    "plt1 = clean_data['odometer'].groupby(clean_data['condition']).mean().plot(kind = 'bar')\n",
    "plt.title('Condition Vs ODometer plot')\n",
    "plt1.set(xlabel = 'condition', ylabel='Odometer Average')\n"
   ]
  },
  {
   "cell_type": "code",
   "execution_count": 24,
   "metadata": {},
   "outputs": [
    {
     "data": {
      "text/plain": [
       "<matplotlib.axes._subplots.AxesSubplot at 0x1c2997bb9d0>"
      ]
     },
     "execution_count": 24,
     "metadata": {},
     "output_type": "execute_result"
    },
    {
     "data": {
      "image/png": "[encoded data removed]",
      "text/plain": [
       "<Figure size 1080x432 with 1 Axes>"
      ]
     },
     "metadata": {
      "needs_background": "light"
     },
     "output_type": "display_data"
    }
   ],
   "source": [
    "# Analying the odometer values of the car\n",
    "plt.figure(figsize=(15,6))\n",
    "\n",
    "plt.subplot(1,2,1)\n",
    "plt.title('Car odometer plot')\n",
    "sns.distplot(clean_data.odometer)"
   ]
  },
  {
   "cell_type": "markdown",
   "metadata": {},
   "source": [
    "the peak value's in the odometer are observed near 40K miles and 120K miles, the 120k miles is the average value of the excellent condition value which again describes the importance of odometer and condtion values importance in the car price prediction"
   ]
  },
  {
   "cell_type": "code",
   "execution_count": 25,
   "metadata": {},
   "outputs": [
    {
     "data": {
      "text/plain": [
       "Text(0.5, 0, 'odometer (miles)')"
      ]
     },
     "execution_count": 25,
     "metadata": {},
     "output_type": "execute_result"
    },
    {
     "data": {
      "image/png": "[encoded data removed]",
      "text/plain": [
       "<Figure size 1080x432 with 1 Axes>"
      ]
     },
     "metadata": {
      "needs_background": "light"
     },
     "output_type": "display_data"
    }
   ],
   "source": [
    "#odometer vs price\n",
    "plt.figure(figsize=(15,6))\n",
    "plt.subplot(1,2,1)\n",
    "plt.scatter(clean_data['odometer'],clean_data['price'])\n",
    "plt.title(' odometer vs Price')\n",
    "plt.ylabel('Price ($) ')\n",
    "plt.xlabel('odometer (miles)')"
   ]
  },
  {
   "cell_type": "markdown",
   "metadata": {},
   "source": [
    "This clearly indicates that as odometer value increases the price of the car decreases and they are inversely proportional"
   ]
  },
  {
   "cell_type": "code",
   "execution_count": 26,
   "metadata": {},
   "outputs": [
    {
     "data": {
      "text/plain": [
       "<matplotlib.axes._subplots.AxesSubplot at 0x1c29a9ed5b0>"
      ]
     },
     "execution_count": 26,
     "metadata": {},
     "output_type": "execute_result"
    },
    {
     "data": {
      "image/png": "[encoded data removed]",
      "text/plain": [
       "<Figure size 1080x1440 with 2 Axes>"
      ]
     },
     "metadata": {
      "needs_background": "light"
     },
     "output_type": "display_data"
    }
   ],
   "source": [
    "#fuel univariate and bivariate with price\n",
    "plt.figure(figsize=(15,20))\n",
    "plt.subplot(4,2,1)\n",
    "plt.title('Fuel Histogram')\n",
    "sns.countplot(clean_data['fuel_cleaned'],palette=(\"BuGn_r\"))\n",
    "plt.subplot(4,2,2)\n",
    "plt.title('Fuel vs Price')\n",
    "sns.boxplot(clean_data['fuel_cleaned'], y=clean_data.price, palette=(\"BuGn\"))"
   ]
  },
  {
   "cell_type": "markdown",
   "metadata": {},
   "source": [
    "When the fuel is compared gas has the morecount in the market where electric is quite low but the price is comparitively higher for electric cars as those are this era cars i.e., after 2016. diesel cars have a better count when compared to other types except gas with a better price in market."
   ]
  },
  {
   "cell_type": "code",
   "execution_count": 27,
   "metadata": {},
   "outputs": [
    {
     "data": {
      "text/plain": [
       "<matplotlib.axes._subplots.AxesSubplot at 0x1c2996ebdf0>"
      ]
     },
     "execution_count": 27,
     "metadata": {},
     "output_type": "execute_result"
    },
    {
     "data": {
      "image/png": "[encoded data removed]",
      "text/plain": [
       "<Figure size 1080x1440 with 2 Axes>"
      ]
     },
     "metadata": {
      "needs_background": "light"
     },
     "output_type": "display_data"
    }
   ],
   "source": [
    "#Size univariate and bivariate with price\n",
    "plt.figure(figsize=(15,20))\n",
    "plt.subplot(4,2,1)\n",
    "plt.title('size Histogram')\n",
    "sns.countplot(clean_data['size_cleaned'],palette=(\"GnBu_r\"))\n",
    "plt.subplot(4,2,2)\n",
    "plt.title('Size vs Price')\n",
    "sns.boxplot(clean_data['size_cleaned'], y=clean_data.price, palette=(\"GnBu_r\"))"
   ]
  },
  {
   "cell_type": "markdown",
   "metadata": {},
   "source": [
    "Full size cars are clearly dominating in the market with a better rate than other types."
   ]
  },
  {
   "cell_type": "code",
   "execution_count": 28,
   "metadata": {},
   "outputs": [
    {
     "data": {
      "text/plain": [
       "<matplotlib.axes._subplots.AxesSubplot at 0x1c29958ac70>"
      ]
     },
     "execution_count": 28,
     "metadata": {},
     "output_type": "execute_result"
    },
    {
     "data": {
      "image/png": "[encoded data removed]",
      "text/plain": [
       "<Figure size 1224x1440 with 2 Axes>"
      ]
     },
     "metadata": {
      "needs_background": "light"
     },
     "output_type": "display_data"
    }
   ],
   "source": [
    "#Cylinders univariate and bivariate with price\n",
    "plt.figure(figsize=(17,20))\n",
    "plt.subplot(4,2,1)\n",
    "plt.title('Cylinders Histogram')\n",
    "sns.countplot(clean_data['cylinders_cleaned'],palette=(\"RdYlBu_r\"))\n",
    "plt.subplot(4,2,2)\n",
    "plt.title('Cylinders vs Price')\n",
    "sns.boxplot(clean_data['cylinders_cleaned'], y=clean_data.price, palette=(\"RdYlBu_r\"))"
   ]
  },
  {
   "cell_type": "markdown",
   "metadata": {},
   "source": [
    "6 cylinder, 4 cylinder cars are relatively more for sale at a lower price rate. 12 cylinders cars are less in count but have a higher rate."
   ]
  },
  {
   "cell_type": "code",
   "execution_count": 29,
   "metadata": {},
   "outputs": [
    {
     "data": {
      "text/plain": [
       "<matplotlib.axes._subplots.AxesSubplot at 0x1c29bb52820>"
      ]
     },
     "execution_count": 29,
     "metadata": {},
     "output_type": "execute_result"
    },
    {
     "data": {
      "image/png": "[encoded data removed]",
      "text/plain": [
       "<Figure size 1080x1440 with 2 Axes>"
      ]
     },
     "metadata": {
      "needs_background": "light"
     },
     "output_type": "display_data"
    }
   ],
   "source": [
    "#Transmission univariate and bivariate with price\n",
    "plt.figure(figsize=(15,20))\n",
    "plt.subplot(4,2,1)\n",
    "plt.title('transmission Histogram')\n",
    "sns.countplot(clean_data['transmission_cleaned'],palette=(\"BuPu_r\"))\n",
    "plt.subplot(4,2,2)\n",
    "plt.title('transmission vs Price')\n",
    "sns.boxplot(clean_data['transmission_cleaned'], y=clean_data.price, palette=(\"BuPu_r\"))"
   ]
  },
  {
   "cell_type": "markdown",
   "metadata": {},
   "source": [
    "transmission is clear by automatic cars are more in this manner where the other(not specified) type has a higher price the automatic cars having relative better price"
   ]
  },
  {
   "cell_type": "code",
   "execution_count": 30,
   "metadata": {},
   "outputs": [
    {
     "data": {
      "image/png": "[encoded data removed]",
      "text/plain": [
       "<Figure size 432x288 with 1 Axes>"
      ]
     },
     "metadata": {
      "needs_background": "light"
     },
     "output_type": "display_data"
    }
   ],
   "source": [
    "x = pd.DataFrame(clean_data.groupby(['drive_cleaned'])['price'].mean())\n",
    "x.plot.bar()\n",
    "plt.title('Car Price Vs Drive Type')\n",
    "plt.show()"
   ]
  },
  {
   "cell_type": "markdown",
   "metadata": {},
   "source": [
    "the plot clearly explains the drive type 4wd and rwd are most preferred drive types having a better price values."
   ]
  },
  {
   "cell_type": "code",
   "execution_count": 31,
   "metadata": {},
   "outputs": [
    {
     "data": {
      "text/plain": [
       "<matplotlib.axes._subplots.AxesSubplot at 0x1c29bebe130>"
      ]
     },
     "execution_count": 31,
     "metadata": {},
     "output_type": "execute_result"
    },
    {
     "data": {
      "image/png": "[encoded data removed]",
      "text/plain": [
       "<Figure size 1080x1440 with 1 Axes>"
      ]
     },
     "metadata": {
      "needs_background": "light"
     },
     "output_type": "display_data"
    }
   ],
   "source": [
    "#Drive univariate \n",
    "plt.figure(figsize=(15,20))\n",
    "plt.subplot(4,2,1)\n",
    "plt.title('Drive Histogram')\n",
    "sns.countplot(clean_data['drive_cleaned'],palette=(\"CMRmap_r\"))\n"
   ]
  },
  {
   "cell_type": "code",
   "execution_count": 33,
   "metadata": {},
   "outputs": [
    {
     "data": {
      "image/png": "[encoded data removed]",
      "text/plain": [
       "<Figure size 432x432 with 1 Axes>"
      ]
     },
     "metadata": {
      "needs_background": "light"
     },
     "output_type": "display_data"
    }
   ],
   "source": [
    "y = pd.DataFrame(clean_data.groupby(['condition'])['price'].mean())\n",
    "y.plot.bar(figsize=(6,6))\n",
    "plt.title('Condition Vs Drive Type')\n",
    "plt.show()"
   ]
  },
  {
   "cell_type": "markdown",
   "metadata": {},
   "source": [
    "# Hypothesis and testing"
   ]
  },
  {
   "cell_type": "code",
   "execution_count": 34,
   "metadata": {},
   "outputs": [
    {
     "data": {
      "text/plain": [
       "Ttest_relResult(statistic=-695.4805887820407, pvalue=0.0)"
      ]
     },
     "execution_count": 34,
     "metadata": {},
     "output_type": "execute_result"
    }
   ],
   "source": [
    "#test between price value and odometer\n",
    "from scipy import stats\n",
    "stats.ttest_rel(clean_data['price'], clean_data['odometer'])"
   ]
  },
  {
   "cell_type": "markdown",
   "metadata": {},
   "source": [
    "the p value is < 0.05 so the test is accepted the null hypothesis is validated\n",
    "null hypothesis - there is no significant relation between price and odometer values\n",
    "Alternate hypothesis - there is significant relation between the price and odometer values"
   ]
  },
  {
   "cell_type": "code",
   "execution_count": 35,
   "metadata": {},
   "outputs": [
    {
     "data": {
      "text/plain": [
       "Ttest_relResult(statistic=-695.4805887820407, pvalue=0.0)"
      ]
     },
     "execution_count": 35,
     "metadata": {},
     "output_type": "execute_result"
    }
   ],
   "source": [
    "#test between price and condition\n",
    "stats.ttest_rel(clean_data['price'], clean_data['odometer'])"
   ]
  },
  {
   "cell_type": "code",
   "execution_count": 37,
   "metadata": {},
   "outputs": [
    {
     "data": {
      "image/png": "[encoded data removed]",
      "text/plain": [
       "<Figure size 1080x432 with 1 Axes>"
      ]
     },
     "metadata": {
      "needs_background": "light"
     },
     "output_type": "display_data"
    }
   ],
   "source": [
    "plt.figure(figsize=(15,6))\n",
    "\n",
    "plt.title('condtion vs Price')\n",
    "sns.boxplot(x=clean_data.condition, y=clean_data.price, palette=(\"BuGn_r\"))\n",
    "plt.tight_layout()"
   ]
  },
  {
   "cell_type": "markdown",
   "metadata": {},
   "source": [
    "the p-value for the test is <0.05 and the both hypothesis are validated and the box plot also explains there is a significant relation between condition and price"
   ]
  },
  {
   "cell_type": "markdown",
   "metadata": {},
   "source": [
    "# Algorithm Fitting"
   ]
  },
  {
   "cell_type": "code",
   "execution_count": 38,
   "metadata": {},
   "outputs": [],
   "source": [
    "work_data = clean_data"
   ]
  },
  {
   "cell_type": "code",
   "execution_count": 39,
   "metadata": {
    "scrolled": true
   },
   "outputs": [
    {
     "name": "stdout",
     "output_type": "stream",
     "text": [
      "<class 'pandas.core.frame.DataFrame'>\n",
      "Int64Index: 349719 entries, 0 to 458212\n",
      "Data columns (total 14 columns):\n",
      " #   Column                Non-Null Count   Dtype  \n",
      "---  ------                --------------   -----  \n",
      " 0   price                 349719 non-null  int64  \n",
      " 1   condition             349719 non-null  object \n",
      " 2   odometer              349719 non-null  float64\n",
      " 3   year_cleaned          349719 non-null  float64\n",
      " 4   model_cleaned         349719 non-null  object \n",
      " 5   manufacturer_cleaned  349719 non-null  object \n",
      " 6   cylinders_cleaned     349719 non-null  object \n",
      " 7   fuel_cleaned          349719 non-null  object \n",
      " 8   title_status_cleaned  349719 non-null  object \n",
      " 9   transmission_cleaned  349719 non-null  object \n",
      " 10  drive_cleaned         349719 non-null  object \n",
      " 11  size_cleaned          349719 non-null  object \n",
      " 12  type_cleaned          349719 non-null  object \n",
      " 13  paint_color_cleaned   349719 non-null  object \n",
      "dtypes: float64(2), int64(1), object(11)\n",
      "memory usage: 50.0+ MB\n"
     ]
    }
   ],
   "source": [
    "work_data.info()"
   ]
  },
  {
   "cell_type": "markdown",
   "metadata": {},
   "source": [
    "Removing the Id and region attributes from the data because they are not necessary attributes for the price prediction and moreover the id region has all unique values which may affect the prediction eventhough it does not contribute the prediction."
   ]
  },
  {
   "cell_type": "code",
   "execution_count": 40,
   "metadata": {},
   "outputs": [
    {
     "name": "stdout",
     "output_type": "stream",
     "text": [
      "<class 'pandas.core.frame.DataFrame'>\n",
      "Int64Index: 349719 entries, 0 to 458212\n",
      "Data columns (total 14 columns):\n",
      " #   Column                Non-Null Count   Dtype  \n",
      "---  ------                --------------   -----  \n",
      " 0   price                 349719 non-null  int64  \n",
      " 1   condition             349719 non-null  int32  \n",
      " 2   odometer              349719 non-null  float64\n",
      " 3   year_cleaned          349719 non-null  float64\n",
      " 4   model_cleaned         349719 non-null  int32  \n",
      " 5   manufacturer_cleaned  349719 non-null  int32  \n",
      " 6   cylinders_cleaned     349719 non-null  int32  \n",
      " 7   fuel_cleaned          349719 non-null  int32  \n",
      " 8   title_status_cleaned  349719 non-null  int32  \n",
      " 9   transmission_cleaned  349719 non-null  int32  \n",
      " 10  drive_cleaned         349719 non-null  int32  \n",
      " 11  size_cleaned          349719 non-null  int32  \n",
      " 12  type_cleaned          349719 non-null  int32  \n",
      " 13  paint_color_cleaned   349719 non-null  int32  \n",
      "dtypes: float64(2), int32(11), int64(1)\n",
      "memory usage: 35.3 MB\n"
     ]
    }
   ],
   "source": [
    "from sklearn import preprocessing\n",
    "import pandas as pd\n",
    "le = preprocessing.LabelEncoder()\n",
    "\n",
    "work_data[['condition', 'model_cleaned', 'manufacturer_cleaned', 'cylinders_cleaned','fuel_cleaned','title_status_cleaned', 'transmission_cleaned','drive_cleaned','size_cleaned','type_cleaned','paint_color_cleaned']] = work_data[['condition', 'model_cleaned', 'manufacturer_cleaned', 'cylinders_cleaned','fuel_cleaned','title_status_cleaned', 'transmission_cleaned','drive_cleaned','size_cleaned','type_cleaned','paint_color_cleaned']].apply(le.fit_transform)\n",
    "work_data.info()"
   ]
  },
  {
   "cell_type": "markdown",
   "metadata": {},
   "source": [
    "converting all categorical i.e., object data types to integer types as the algorithm accepted input is integer."
   ]
  },
  {
   "cell_type": "code",
   "execution_count": 41,
   "metadata": {},
   "outputs": [
    {
     "name": "stdout",
     "output_type": "stream",
     "text": [
      "(279775, 13) (279775,)\n",
      "(69944, 13) (69944,)\n"
     ]
    }
   ],
   "source": [
    "from sklearn import datasets, linear_model\n",
    "from sklearn.model_selection import train_test_split\n",
    "from matplotlib import pyplot as plt\n",
    "\n",
    "#train test split for the algorithm fitting\n",
    "Y= work_data.price\n",
    "X= work_data.drop('price',axis=1)\n",
    "\n",
    "X_train, X_test, Y_train, Y_test = train_test_split(X, Y, test_size=0.2, random_state=42)\n",
    "\n",
    "print (X_train.shape, Y_train.shape)\n",
    "print (X_test.shape, Y_test.shape)"
   ]
  },
  {
   "cell_type": "code",
   "execution_count": 162,
   "metadata": {},
   "outputs": [],
   "source": [
    "accuracy_comparision=pd.DataFrame(index=['MSLE', 'Root MSLE', 'R2 Score','Accuracy(%)'])"
   ]
  },
  {
   "cell_type": "code",
   "execution_count": 43,
   "metadata": {},
   "outputs": [],
   "source": [
    "from sklearn.metrics import mean_squared_log_error,r2_score,mean_squared_error\n",
    "def result(Y_test,Y_pred):\n",
    "    r=[]\n",
    "    r.append(mean_squared_log_error(Y_test, Y_pred))\n",
    "    r.append(np.sqrt(r[0]))\n",
    "    r.append(r2_score(Y_test,Y_pred))\n",
    "    r.append(round(r2_score(Y_test,Y_pred)*100,4))\n",
    "    return (r)"
   ]
  },
  {
   "cell_type": "markdown",
   "metadata": {},
   "source": [
    "# Linear Regresssion"
   ]
  },
  {
   "cell_type": "code",
   "execution_count": 44,
   "metadata": {
    "scrolled": true
   },
   "outputs": [
    {
     "name": "stdout",
     "output_type": "stream",
     "text": [
      "Root Mean Square Error = 8570.24\n",
      "Accuracy =  54.57516285499291 %\n"
     ]
    }
   ],
   "source": [
    "#Applying the Linear Regression algorithm\n",
    "from sklearn.linear_model import LinearRegression\n",
    "from sklearn.metrics import mean_squared_error as mse\n",
    "\n",
    "linear_Reg = LinearRegression()\n",
    "linear_Reg.fit(X_train, Y_train)\n",
    "Y_pred_lin = linear_Reg.predict(X_test)\n",
    "rmse_linear_Reg = np.sqrt(mse(Y_test, Y_pred_lin))\n",
    "train_pred = linear_Reg.predict(X_train)\n",
    "\n",
    "\n",
    "print(\"Root Mean Square Error = {:.2f}\".format((rmse_linear_Reg)))\n",
    "Acc = linear_Reg.score(X_test,Y_test)\n",
    "print('Accuracy = ', Acc*100,'%')"
   ]
  },
  {
   "cell_type": "markdown",
   "metadata": {},
   "source": [
    "here we can infer that the accuracy of the Linear Regression is very low. so let's try another algorithm "
   ]
  },
  {
   "cell_type": "code",
   "execution_count": 45,
   "metadata": {},
   "outputs": [
    {
     "name": "stdout",
     "output_type": "stream",
     "text": [
      "Mean Absolute Error: 6158.68\n",
      "Mean Squared Error: 73632452.73\n",
      "Root Mean Squared Error: 8580.94\n"
     ]
    }
   ],
   "source": [
    "from sklearn import metrics\n",
    "print('Mean Absolute Error:', round(metrics.mean_absolute_error(Y_train, train_pred),2))\n",
    "print('Mean Squared Error:', round(metrics.mean_squared_error(Y_train, train_pred),2))\n",
    "print('Root Mean Squared Error:', round(np.sqrt(mse(Y_train, train_pred)),2))"
   ]
  },
  {
   "cell_type": "code",
   "execution_count": 131,
   "metadata": {},
   "outputs": [],
   "source": [
    "Y_pred_lin[Y_pred_lin < 0] = 0"
   ]
  },
  {
   "cell_type": "code",
   "execution_count": 132,
   "metadata": {},
   "outputs": [],
   "source": [
    "r1 = result(Y_test, Y_pred_lin)"
   ]
  },
  {
   "cell_type": "code",
   "execution_count": 164,
   "metadata": {},
   "outputs": [],
   "source": [
    "accuracy_comparision['Linear Regressor']=r1\n",
    "accuracy_comparision.to_csv('accuracy.csv')"
   ]
  },
  {
   "cell_type": "code",
   "execution_count": 46,
   "metadata": {},
   "outputs": [
    {
     "data": {
      "text/html": [
       "<div>\n",
       "<style scoped>\n",
       "    .dataframe tbody tr th:only-of-type {\n",
       "        vertical-align: middle;\n",
       "    }\n",
       "\n",
       "    .dataframe tbody tr th {\n",
       "        vertical-align: top;\n",
       "    }\n",
       "\n",
       "    .dataframe thead th {\n",
       "        text-align: right;\n",
       "    }\n",
       "</style>\n",
       "<table border=\"1\" class=\"dataframe\">\n",
       "  <thead>\n",
       "    <tr style=\"text-align: right;\">\n",
       "      <th></th>\n",
       "      <th>Coefficient</th>\n",
       "    </tr>\n",
       "  </thead>\n",
       "  <tbody>\n",
       "    <tr>\n",
       "      <th>condition</th>\n",
       "      <td>208.562250</td>\n",
       "    </tr>\n",
       "    <tr>\n",
       "      <th>odometer</th>\n",
       "      <td>-0.076526</td>\n",
       "    </tr>\n",
       "    <tr>\n",
       "      <th>year_cleaned</th>\n",
       "      <td>813.431806</td>\n",
       "    </tr>\n",
       "    <tr>\n",
       "      <th>model_cleaned</th>\n",
       "      <td>-0.003839</td>\n",
       "    </tr>\n",
       "    <tr>\n",
       "      <th>manufacturer_cleaned</th>\n",
       "      <td>-4.467738</td>\n",
       "    </tr>\n",
       "    <tr>\n",
       "      <th>cylinders_cleaned</th>\n",
       "      <td>3456.355237</td>\n",
       "    </tr>\n",
       "    <tr>\n",
       "      <th>fuel_cleaned</th>\n",
       "      <td>-4196.501965</td>\n",
       "    </tr>\n",
       "    <tr>\n",
       "      <th>title_status_cleaned</th>\n",
       "      <td>-1140.324009</td>\n",
       "    </tr>\n",
       "    <tr>\n",
       "      <th>transmission_cleaned</th>\n",
       "      <td>627.115481</td>\n",
       "    </tr>\n",
       "    <tr>\n",
       "      <th>drive_cleaned</th>\n",
       "      <td>-1563.104239</td>\n",
       "    </tr>\n",
       "    <tr>\n",
       "      <th>size_cleaned</th>\n",
       "      <td>-162.275900</td>\n",
       "    </tr>\n",
       "    <tr>\n",
       "      <th>type_cleaned</th>\n",
       "      <td>3.882053</td>\n",
       "    </tr>\n",
       "    <tr>\n",
       "      <th>paint_color_cleaned</th>\n",
       "      <td>-34.615820</td>\n",
       "    </tr>\n",
       "  </tbody>\n",
       "</table>\n",
       "</div>"
      ],
      "text/plain": [
       "                      Coefficient\n",
       "condition              208.562250\n",
       "odometer                -0.076526\n",
       "year_cleaned           813.431806\n",
       "model_cleaned           -0.003839\n",
       "manufacturer_cleaned    -4.467738\n",
       "cylinders_cleaned     3456.355237\n",
       "fuel_cleaned         -4196.501965\n",
       "title_status_cleaned -1140.324009\n",
       "transmission_cleaned   627.115481\n",
       "drive_cleaned        -1563.104239\n",
       "size_cleaned          -162.275900\n",
       "type_cleaned             3.882053\n",
       "paint_color_cleaned    -34.615820"
      ]
     },
     "execution_count": 46,
     "metadata": {},
     "output_type": "execute_result"
    }
   ],
   "source": [
    "coeff_df = pd.DataFrame(linear_Reg.coef_, X.columns, columns=['Coefficient'])\n",
    "coeff_df\n"
   ]
  },
  {
   "cell_type": "markdown",
   "metadata": {},
   "source": []
  },
  {
   "cell_type": "code",
   "execution_count": 47,
   "metadata": {},
   "outputs": [
    {
     "data": {
      "text/plain": [
       "Text(0.5, 1.0, 'Feature importance using Linear Model')"
      ]
     },
     "execution_count": 47,
     "metadata": {},
     "output_type": "execute_result"
    },
    {
     "data": {
      "image/png": "[encoded data removed]",
      "text/plain": [
       "<Figure size 504x504 with 1 Axes>"
      ]
     },
     "metadata": {
      "needs_background": "light"
     },
     "output_type": "display_data"
    }
   ],
   "source": [
    "sort = coeff_df.sort_values(by=['Coefficient'], axis=0, ascending = True)\n",
    "import matplotlib\n",
    "matplotlib.rcParams['figure.figsize'] = (7.0, 7.0)\n",
    "sort.plot(kind = \"barh\")\n",
    "plt.title(\"Feature importance using Linear Model\")"
   ]
  },
  {
   "cell_type": "markdown",
   "metadata": {},
   "source": [
    "# Lasso Regression"
   ]
  },
  {
   "cell_type": "code",
   "execution_count": 48,
   "metadata": {},
   "outputs": [],
   "source": [
    "from sklearn.linear_model import Lasso\n",
    "from mpl_toolkits.mplot3d import Axes3D\n",
    "from mpl_toolkits import mplot3d\n",
    "from sklearn import linear_model\n",
    "from sklearn import datasets\n",
    "from sklearn.preprocessing import scale \n",
    "from sklearn.linear_model import LassoCV\n",
    "from sklearn import metrics\n",
    "from sklearn.metrics import mean_squared_error "
   ]
  },
  {
   "cell_type": "code",
   "execution_count": 49,
   "metadata": {},
   "outputs": [
    {
     "name": "stdout",
     "output_type": "stream",
     "text": [
      "Best alpha using built-in LassoCV: 0.013781\n",
      "Best score using built-in LassoCV: 0.549520\n",
      "Root Mean Squared Error: 8570.19\n"
     ]
    }
   ],
   "source": [
    "lasso_Reg = LassoCV( alphas = None, cv = 10, max_iter = 100000, normalize = True)\n",
    "lasso_Reg.fit(X_train, Y_train)\n",
    "print(\"Best alpha using built-in LassoCV: %f\" % lasso_Reg.alpha_)\n",
    "print(\"Best score using built-in LassoCV: %f\" %lasso_Reg.score(X_train,Y_train))\n",
    "coef = pd.Series(lasso_Reg.coef_, index = X.columns)\n",
    "print('Root Mean Squared Error:', round(np.sqrt(metrics.mean_squared_error(Y_test, lasso_Reg.predict(X_test))),2))"
   ]
  },
  {
   "cell_type": "code",
   "execution_count": 50,
   "metadata": {},
   "outputs": [
    {
     "name": "stdout",
     "output_type": "stream",
     "text": [
      "Mean Absolute Error: 6158.68\n",
      "Mean Squared Error: 73632452.73\n",
      "Root Mean Squared Error: 8580.94\n",
      "Accuracy =  54.57566134041152 %\n"
     ]
    }
   ],
   "source": [
    "Y_pred_lass = lasso_Reg.predict(X_test)\n",
    "print('Mean Absolute Error:', round(metrics.mean_absolute_error(Y_train, train_pred),2))\n",
    "print('Mean Squared Error:', round(metrics.mean_squared_error(Y_train, train_pred),2))\n",
    "print('Root Mean Squared Error:', round(np.sqrt(mse(Y_train, train_pred)),2))\n",
    "Acc = lasso_Reg.score(X_test,Y_test)\n",
    "print('Accuracy = ', Acc*100,'%')\n"
   ]
  },
  {
   "cell_type": "code",
   "execution_count": 133,
   "metadata": {},
   "outputs": [],
   "source": [
    "Y_pred_lass[Y_pred_lass < 0] = 0\n",
    "r2 = result(Y_test,Y_pred_lass)"
   ]
  },
  {
   "cell_type": "code",
   "execution_count": 166,
   "metadata": {},
   "outputs": [],
   "source": [
    "accuracy_comparision['Lasso Regressor']=r2\n",
    "accuracy_comparision.to_csv('accuracy.csv')"
   ]
  },
  {
   "cell_type": "code",
   "execution_count": 51,
   "metadata": {},
   "outputs": [
    {
     "data": {
      "text/html": [
       "<div>\n",
       "<style scoped>\n",
       "    .dataframe tbody tr th:only-of-type {\n",
       "        vertical-align: middle;\n",
       "    }\n",
       "\n",
       "    .dataframe tbody tr th {\n",
       "        vertical-align: top;\n",
       "    }\n",
       "\n",
       "    .dataframe thead th {\n",
       "        text-align: right;\n",
       "    }\n",
       "</style>\n",
       "<table border=\"1\" class=\"dataframe\">\n",
       "  <thead>\n",
       "    <tr style=\"text-align: right;\">\n",
       "      <th></th>\n",
       "      <th>Coefficient</th>\n",
       "    </tr>\n",
       "  </thead>\n",
       "  <tbody>\n",
       "    <tr>\n",
       "      <th>condition</th>\n",
       "      <td>205.294475</td>\n",
       "    </tr>\n",
       "    <tr>\n",
       "      <th>odometer</th>\n",
       "      <td>-0.076457</td>\n",
       "    </tr>\n",
       "    <tr>\n",
       "      <th>year_cleaned</th>\n",
       "      <td>812.795853</td>\n",
       "    </tr>\n",
       "    <tr>\n",
       "      <th>model_cleaned</th>\n",
       "      <td>-0.002584</td>\n",
       "    </tr>\n",
       "    <tr>\n",
       "      <th>manufacturer_cleaned</th>\n",
       "      <td>-3.800546</td>\n",
       "    </tr>\n",
       "    <tr>\n",
       "      <th>cylinders_cleaned</th>\n",
       "      <td>3452.607333</td>\n",
       "    </tr>\n",
       "    <tr>\n",
       "      <th>fuel_cleaned</th>\n",
       "      <td>-4184.992312</td>\n",
       "    </tr>\n",
       "    <tr>\n",
       "      <th>title_status_cleaned</th>\n",
       "      <td>-1130.806991</td>\n",
       "    </tr>\n",
       "    <tr>\n",
       "      <th>transmission_cleaned</th>\n",
       "      <td>616.576916</td>\n",
       "    </tr>\n",
       "    <tr>\n",
       "      <th>drive_cleaned</th>\n",
       "      <td>-1551.060154</td>\n",
       "    </tr>\n",
       "    <tr>\n",
       "      <th>size_cleaned</th>\n",
       "      <td>-148.882915</td>\n",
       "    </tr>\n",
       "    <tr>\n",
       "      <th>type_cleaned</th>\n",
       "      <td>2.023880</td>\n",
       "    </tr>\n",
       "    <tr>\n",
       "      <th>paint_color_cleaned</th>\n",
       "      <td>-32.278751</td>\n",
       "    </tr>\n",
       "  </tbody>\n",
       "</table>\n",
       "</div>"
      ],
      "text/plain": [
       "                      Coefficient\n",
       "condition              205.294475\n",
       "odometer                -0.076457\n",
       "year_cleaned           812.795853\n",
       "model_cleaned           -0.002584\n",
       "manufacturer_cleaned    -3.800546\n",
       "cylinders_cleaned     3452.607333\n",
       "fuel_cleaned         -4184.992312\n",
       "title_status_cleaned -1130.806991\n",
       "transmission_cleaned   616.576916\n",
       "drive_cleaned        -1551.060154\n",
       "size_cleaned          -148.882915\n",
       "type_cleaned             2.023880\n",
       "paint_color_cleaned    -32.278751"
      ]
     },
     "execution_count": 51,
     "metadata": {},
     "output_type": "execute_result"
    }
   ],
   "source": [
    "coeff_df = pd.DataFrame(lasso_Reg.coef_, X.columns, columns=['Coefficient'])\n",
    "coeff_df"
   ]
  },
  {
   "cell_type": "code",
   "execution_count": 97,
   "metadata": {},
   "outputs": [
    {
     "data": {
      "text/plain": [
       "Text(0.5, 1.0, 'Feature importance using Lasso Regression Model')"
      ]
     },
     "execution_count": 97,
     "metadata": {},
     "output_type": "execute_result"
    },
    {
     "data": {
      "image/png": "[encoded data removed]",
      "text/plain": [
       "<Figure size 504x504 with 1 Axes>"
      ]
     },
     "metadata": {
      "needs_background": "light"
     },
     "output_type": "display_data"
    }
   ],
   "source": [
    "sort = coeff_df.sort_values(by=['Coefficient'], axis=0, ascending = True)\n",
    "import matplotlib\n",
    "matplotlib.rcParams['figure.figsize'] = (7.0, 7.0)\n",
    "sort.plot.barh(color='g', align='center')\n",
    "plt.title(\"Feature importance using Lasso Regression Model\")"
   ]
  },
  {
   "cell_type": "markdown",
   "metadata": {},
   "source": [
    "# Adaboost Algorithm"
   ]
  },
  {
   "cell_type": "code",
   "execution_count": 53,
   "metadata": {},
   "outputs": [],
   "source": [
    "from sklearn.tree import DecisionTreeRegressor\n",
    "from sklearn.svm import SVR\n",
    "\n",
    "from sklearn.ensemble import AdaBoostRegressor\n",
    "\n",
    "\n",
    "\n",
    "ABR = AdaBoostRegressor(\n",
    "    DecisionTreeRegressor(max_depth=24),\n",
    "    n_estimators=200,learning_rate=0.6\n",
    ")\n",
    "\n",
    "ABR.fit(X_train, Y_train)\n",
    "Y_pred_ada = ABR.predict(X_test)"
   ]
  },
  {
   "cell_type": "code",
   "execution_count": 54,
   "metadata": {},
   "outputs": [
    {
     "name": "stdout",
     "output_type": "stream",
     "text": [
      "MSLE : 0.09189187457277977\n",
      "Root MSLE : 0.30313672587263285\n",
      "R2 Score : 0.9314945576172168 or 93.1495%\n"
     ]
    }
   ],
   "source": [
    "r3 = result(Y_test,Y_pred_ada)\n",
    "print(\"MSLE : {}\".format(r3[0]))\n",
    "print(\"Root MSLE : {}\".format(r3[1]))\n",
    "print(\"R2 Score : {} or {}%\".format(r3[2],r3[3]))"
   ]
  },
  {
   "cell_type": "code",
   "execution_count": 167,
   "metadata": {},
   "outputs": [],
   "source": [
    "accuracy_comparision['Adaboost Regressor']=r3\n",
    "accuracy_comparision.to_csv('accuracy.csv')"
   ]
  },
  {
   "cell_type": "code",
   "execution_count": 99,
   "metadata": {},
   "outputs": [
    {
     "data": {
      "image/png": "[encoded data removed]",
      "text/plain": [
       "<Figure size 504x504 with 1 Axes>"
      ]
     },
     "metadata": {
      "needs_background": "light"
     },
     "output_type": "display_data"
    }
   ],
   "source": [
    "importances=ABR.feature_importances_\n",
    "features=X_train.columns\n",
    "\n",
    "indices = np.argsort(importances)\n",
    "indices = [x for x in reversed(indices)]\n",
    "plt.figure(1)\n",
    "plt.title('Features Contribution in Adaboost Algorithm')\n",
    "plt.barh(range(len(indices)), importances[indices], color='y', align='center')\n",
    "plt.yticks(range(len(indices)), features[indices])\n",
    "plt.xlabel('Relative Importance')\n",
    "plt.ylabel('Features')\n",
    "plt.tight_layout()\n",
    "plt.show();"
   ]
  },
  {
   "cell_type": "markdown",
   "metadata": {},
   "source": [
    "# Random Forest Implementation"
   ]
  },
  {
   "cell_type": "code",
   "execution_count": 57,
   "metadata": {},
   "outputs": [],
   "source": [
    "from sklearn.ensemble import RandomForestRegressor\n",
    "\n",
    "regressor = RandomForestRegressor(n_estimators=200, random_state=0)\n",
    "regressor.fit(X_train, Y_train)\n",
    "Y_pred_random = regressor.predict(X_test)"
   ]
  },
  {
   "cell_type": "code",
   "execution_count": 59,
   "metadata": {},
   "outputs": [
    {
     "name": "stdout",
     "output_type": "stream",
     "text": [
      "Mean Absolute Error: 1545.88\n",
      "Mean Squared Error: 11267490.23\n",
      "Root Mean Squared Error: 3356.71\n"
     ]
    }
   ],
   "source": [
    "print('Mean Absolute Error:', round(metrics.mean_absolute_error(Y_test, Y_pred_random),2))\n",
    "print('Mean Squared Error:', round(metrics.mean_squared_error(Y_test, Y_pred_random),2))\n",
    "print('Root Mean Squared Error:', round(np.sqrt(metrics.mean_squared_error(Y_test, Y_pred_random)),2))"
   ]
  },
  {
   "cell_type": "code",
   "execution_count": 60,
   "metadata": {},
   "outputs": [],
   "source": [
    "r4 = result(Y_test,Y_pred_random)"
   ]
  },
  {
   "cell_type": "code",
   "execution_count": 168,
   "metadata": {},
   "outputs": [],
   "source": [
    "accuracy_comparision['Random Forest Regressor']=r4\n",
    "accuracy_comparision.to_csv('accuracy.csv')"
   ]
  },
  {
   "cell_type": "code",
   "execution_count": 77,
   "metadata": {},
   "outputs": [
    {
     "data": {
      "text/html": [
       "<div>\n",
       "<style scoped>\n",
       "    .dataframe tbody tr th:only-of-type {\n",
       "        vertical-align: middle;\n",
       "    }\n",
       "\n",
       "    .dataframe tbody tr th {\n",
       "        vertical-align: top;\n",
       "    }\n",
       "\n",
       "    .dataframe thead th {\n",
       "        text-align: right;\n",
       "    }\n",
       "</style>\n",
       "<table border=\"1\" class=\"dataframe\">\n",
       "  <thead>\n",
       "    <tr style=\"text-align: right;\">\n",
       "      <th></th>\n",
       "      <th>Attributes</th>\n",
       "    </tr>\n",
       "  </thead>\n",
       "  <tbody>\n",
       "    <tr>\n",
       "      <th>condition</th>\n",
       "      <td>0.011829</td>\n",
       "    </tr>\n",
       "    <tr>\n",
       "      <th>odometer</th>\n",
       "      <td>0.131199</td>\n",
       "    </tr>\n",
       "    <tr>\n",
       "      <th>year_cleaned</th>\n",
       "      <td>0.400036</td>\n",
       "    </tr>\n",
       "    <tr>\n",
       "      <th>model_cleaned</th>\n",
       "      <td>0.098263</td>\n",
       "    </tr>\n",
       "    <tr>\n",
       "      <th>manufacturer_cleaned</th>\n",
       "      <td>0.047968</td>\n",
       "    </tr>\n",
       "    <tr>\n",
       "      <th>cylinders_cleaned</th>\n",
       "      <td>0.123523</td>\n",
       "    </tr>\n",
       "    <tr>\n",
       "      <th>fuel_cleaned</th>\n",
       "      <td>0.084976</td>\n",
       "    </tr>\n",
       "    <tr>\n",
       "      <th>title_status_cleaned</th>\n",
       "      <td>0.004011</td>\n",
       "    </tr>\n",
       "    <tr>\n",
       "      <th>transmission_cleaned</th>\n",
       "      <td>0.006360</td>\n",
       "    </tr>\n",
       "    <tr>\n",
       "      <th>drive_cleaned</th>\n",
       "      <td>0.047143</td>\n",
       "    </tr>\n",
       "    <tr>\n",
       "      <th>size_cleaned</th>\n",
       "      <td>0.003090</td>\n",
       "    </tr>\n",
       "    <tr>\n",
       "      <th>type_cleaned</th>\n",
       "      <td>0.029970</td>\n",
       "    </tr>\n",
       "    <tr>\n",
       "      <th>paint_color_cleaned</th>\n",
       "      <td>0.011631</td>\n",
       "    </tr>\n",
       "  </tbody>\n",
       "</table>\n",
       "</div>"
      ],
      "text/plain": [
       "                      Attributes\n",
       "condition               0.011829\n",
       "odometer                0.131199\n",
       "year_cleaned            0.400036\n",
       "model_cleaned           0.098263\n",
       "manufacturer_cleaned    0.047968\n",
       "cylinders_cleaned       0.123523\n",
       "fuel_cleaned            0.084976\n",
       "title_status_cleaned    0.004011\n",
       "transmission_cleaned    0.006360\n",
       "drive_cleaned           0.047143\n",
       "size_cleaned            0.003090\n",
       "type_cleaned            0.029970\n",
       "paint_color_cleaned     0.011631"
      ]
     },
     "execution_count": 77,
     "metadata": {},
     "output_type": "execute_result"
    }
   ],
   "source": [
    "\n",
    "\n",
    "feature_imp = pd.DataFrame(regressor.feature_importances_, X.columns, columns=['Attributes'])\n",
    "feature_imp"
   ]
  },
  {
   "cell_type": "code",
   "execution_count": 85,
   "metadata": {},
   "outputs": [
    {
     "data": {
      "text/html": [
       "<div>\n",
       "<style scoped>\n",
       "    .dataframe tbody tr th:only-of-type {\n",
       "        vertical-align: middle;\n",
       "    }\n",
       "\n",
       "    .dataframe tbody tr th {\n",
       "        vertical-align: top;\n",
       "    }\n",
       "\n",
       "    .dataframe thead th {\n",
       "        text-align: right;\n",
       "    }\n",
       "</style>\n",
       "<table border=\"1\" class=\"dataframe\">\n",
       "  <thead>\n",
       "    <tr style=\"text-align: right;\">\n",
       "      <th></th>\n",
       "      <th>Attributes</th>\n",
       "    </tr>\n",
       "  </thead>\n",
       "  <tbody>\n",
       "    <tr>\n",
       "      <th>year_cleaned</th>\n",
       "      <td>0.400036</td>\n",
       "    </tr>\n",
       "    <tr>\n",
       "      <th>odometer</th>\n",
       "      <td>0.131199</td>\n",
       "    </tr>\n",
       "    <tr>\n",
       "      <th>cylinders_cleaned</th>\n",
       "      <td>0.123523</td>\n",
       "    </tr>\n",
       "    <tr>\n",
       "      <th>model_cleaned</th>\n",
       "      <td>0.098263</td>\n",
       "    </tr>\n",
       "    <tr>\n",
       "      <th>fuel_cleaned</th>\n",
       "      <td>0.084976</td>\n",
       "    </tr>\n",
       "    <tr>\n",
       "      <th>manufacturer_cleaned</th>\n",
       "      <td>0.047968</td>\n",
       "    </tr>\n",
       "    <tr>\n",
       "      <th>drive_cleaned</th>\n",
       "      <td>0.047143</td>\n",
       "    </tr>\n",
       "    <tr>\n",
       "      <th>type_cleaned</th>\n",
       "      <td>0.029970</td>\n",
       "    </tr>\n",
       "    <tr>\n",
       "      <th>condition</th>\n",
       "      <td>0.011829</td>\n",
       "    </tr>\n",
       "    <tr>\n",
       "      <th>paint_color_cleaned</th>\n",
       "      <td>0.011631</td>\n",
       "    </tr>\n",
       "    <tr>\n",
       "      <th>transmission_cleaned</th>\n",
       "      <td>0.006360</td>\n",
       "    </tr>\n",
       "    <tr>\n",
       "      <th>title_status_cleaned</th>\n",
       "      <td>0.004011</td>\n",
       "    </tr>\n",
       "    <tr>\n",
       "      <th>size_cleaned</th>\n",
       "      <td>0.003090</td>\n",
       "    </tr>\n",
       "  </tbody>\n",
       "</table>\n",
       "</div>"
      ],
      "text/plain": [
       "                      Attributes\n",
       "year_cleaned            0.400036\n",
       "odometer                0.131199\n",
       "cylinders_cleaned       0.123523\n",
       "model_cleaned           0.098263\n",
       "fuel_cleaned            0.084976\n",
       "manufacturer_cleaned    0.047968\n",
       "drive_cleaned           0.047143\n",
       "type_cleaned            0.029970\n",
       "condition               0.011829\n",
       "paint_color_cleaned     0.011631\n",
       "transmission_cleaned    0.006360\n",
       "title_status_cleaned    0.004011\n",
       "size_cleaned            0.003090"
      ]
     },
     "execution_count": 85,
     "metadata": {},
     "output_type": "execute_result"
    }
   ],
   "source": [
    "feature_imp.sort_values(by = ['Attributes'], axis = 0, ascending = False)"
   ]
  },
  {
   "cell_type": "code",
   "execution_count": 98,
   "metadata": {},
   "outputs": [
    {
     "data": {
      "text/plain": [
       "Text(0.5, 1.0, 'Feature importance using Random Forest Regression Model')"
      ]
     },
     "execution_count": 98,
     "metadata": {},
     "output_type": "execute_result"
    },
    {
     "data": {
      "image/png": "[encoded data removed]",
      "text/plain": [
       "<Figure size 504x504 with 1 Axes>"
      ]
     },
     "metadata": {
      "needs_background": "light"
     },
     "output_type": "display_data"
    }
   ],
   "source": [
    "sort1 = feature_imp.sort_values(by = ['Attributes'], axis = 0, ascending = False)\n",
    "import matplotlib\n",
    "matplotlib.rcParams['figure.figsize'] = (7.0, 7.0)\n",
    "sort1.plot.bar(color = 'r')\n",
    "plt.title(\"Feature importance using Random Forest Regression Model\")"
   ]
  },
  {
   "cell_type": "markdown",
   "metadata": {},
   "source": [
    "The values from year to drive have more so using them again to predict random forest tree"
   ]
  },
  {
   "cell_type": "code",
   "execution_count": 106,
   "metadata": {},
   "outputs": [
    {
     "name": "stdout",
     "output_type": "stream",
     "text": [
      "(279775, 7) (279775,)\n",
      "(69944, 7) (69944,)\n"
     ]
    }
   ],
   "source": [
    "\n",
    "imp_feat = work_data[['year_cleaned','odometer','cylinders_cleaned','model_cleaned','fuel_cleaned','manufacturer_cleaned','drive_cleaned','price']]\n",
    "\n",
    "Y1 = imp_feat.price\n",
    "X1 = imp_feat.drop('price',axis=1)\n",
    "\n",
    "X1_train, X1_test, Y1_train, Y1_test = train_test_split(X1, Y1, test_size=0.2, random_state=42)\n",
    "\n",
    "print (X1_train.shape, Y1_train.shape)\n",
    "print (X1_test.shape, Y1_test.shape)"
   ]
  },
  {
   "cell_type": "code",
   "execution_count": 109,
   "metadata": {},
   "outputs": [
    {
     "data": {
      "text/plain": [
       "RandomForestRegressor(n_estimators=200, random_state=0)"
      ]
     },
     "execution_count": 109,
     "metadata": {},
     "output_type": "execute_result"
    }
   ],
   "source": [
    "regressor.fit(X1_train, Y1_train)"
   ]
  },
  {
   "cell_type": "code",
   "execution_count": 111,
   "metadata": {},
   "outputs": [],
   "source": [
    "most_rand_pred = regressor.predict(X1_test)"
   ]
  },
  {
   "cell_type": "code",
   "execution_count": 112,
   "metadata": {},
   "outputs": [
    {
     "name": "stdout",
     "output_type": "stream",
     "text": [
      "Mean Absolute Error: 1578.07\n",
      "Mean Squared Error: 11592445.77\n",
      "Root Mean Squared Error: 3404.77\n"
     ]
    }
   ],
   "source": [
    "print('Mean Absolute Error:', round(metrics.mean_absolute_error(Y1_test, most_rand_pred),2))\n",
    "print('Mean Squared Error:', round(metrics.mean_squared_error(Y1_test, most_rand_pred),2))\n",
    "print('Root Mean Squared Error:', round(np.sqrt(metrics.mean_squared_error(Y1_test, most_rand_pred)),2))"
   ]
  },
  {
   "cell_type": "code",
   "execution_count": 150,
   "metadata": {},
   "outputs": [],
   "source": [
    "r5 = result(Y1_test,most_rand_pred)"
   ]
  },
  {
   "cell_type": "code",
   "execution_count": 170,
   "metadata": {},
   "outputs": [],
   "source": [
    "accuracy_comparision['Random Forest Regressor Advanced']=r5\n",
    "accuracy_comparision.to_csv('accuracy.csv')"
   ]
  },
  {
   "cell_type": "code",
   "execution_count": 173,
   "metadata": {},
   "outputs": [
    {
     "data": {
      "text/html": [
       "<div>\n",
       "<style scoped>\n",
       "    .dataframe tbody tr th:only-of-type {\n",
       "        vertical-align: middle;\n",
       "    }\n",
       "\n",
       "    .dataframe tbody tr th {\n",
       "        vertical-align: top;\n",
       "    }\n",
       "\n",
       "    .dataframe thead th {\n",
       "        text-align: right;\n",
       "    }\n",
       "</style>\n",
       "<table border=\"1\" class=\"dataframe\">\n",
       "  <thead>\n",
       "    <tr style=\"text-align: right;\">\n",
       "      <th></th>\n",
       "      <th>Unnamed: 0</th>\n",
       "      <th>Linear Regressor</th>\n",
       "      <th>Lasso Regressor</th>\n",
       "      <th>Adaboost Regressor</th>\n",
       "      <th>Random Forest Regressor</th>\n",
       "      <th>Random Forest Regressor Advanced</th>\n",
       "    </tr>\n",
       "  </thead>\n",
       "  <tbody>\n",
       "    <tr>\n",
       "      <th>0</th>\n",
       "      <td>MSLE</td>\n",
       "      <td>3.132110</td>\n",
       "      <td>3.115837</td>\n",
       "      <td>0.091892</td>\n",
       "      <td>0.084713</td>\n",
       "      <td>0.089725</td>\n",
       "    </tr>\n",
       "    <tr>\n",
       "      <th>1</th>\n",
       "      <td>Root MSLE</td>\n",
       "      <td>1.769777</td>\n",
       "      <td>1.765173</td>\n",
       "      <td>0.303137</td>\n",
       "      <td>0.291055</td>\n",
       "      <td>0.299541</td>\n",
       "    </tr>\n",
       "    <tr>\n",
       "      <th>2</th>\n",
       "      <td>R2 Score</td>\n",
       "      <td>0.563836</td>\n",
       "      <td>0.563706</td>\n",
       "      <td>0.931495</td>\n",
       "      <td>0.930316</td>\n",
       "      <td>0.928306</td>\n",
       "    </tr>\n",
       "    <tr>\n",
       "      <th>3</th>\n",
       "      <td>Accuracy(%)</td>\n",
       "      <td>56.383600</td>\n",
       "      <td>56.370600</td>\n",
       "      <td>93.149500</td>\n",
       "      <td>93.031600</td>\n",
       "      <td>92.830600</td>\n",
       "    </tr>\n",
       "  </tbody>\n",
       "</table>\n",
       "</div>"
      ],
      "text/plain": [
       "    Unnamed: 0  Linear Regressor  Lasso Regressor  Adaboost Regressor  \\\n",
       "0         MSLE          3.132110         3.115837            0.091892   \n",
       "1    Root MSLE          1.769777         1.765173            0.303137   \n",
       "2     R2 Score          0.563836         0.563706            0.931495   \n",
       "3  Accuracy(%)         56.383600        56.370600           93.149500   \n",
       "\n",
       "   Random Forest Regressor  Random Forest Regressor Advanced  \n",
       "0                 0.084713                          0.089725  \n",
       "1                 0.291055                          0.299541  \n",
       "2                 0.930316                          0.928306  \n",
       "3                93.031600                         92.830600  "
      ]
     },
     "execution_count": 173,
     "metadata": {},
     "output_type": "execute_result"
    }
   ],
   "source": [
    "alg_eff = pd.read_csv('accuracy.csv')\n",
    "alg_eff"
   ]
  },
  {
   "cell_type": "code",
   "execution_count": null,
   "metadata": {},
   "outputs": [],
   "source": []
  }
 ],
 "metadata": {
  "kernelspec": {
   "display_name": "Python 3",
   "language": "python",
   "name": "python3"
  },
  "language_info": {
   "codemirror_mode": {
    "name": "ipython",
    "version": 3
   },
   "file_extension": ".py",
   "mimetype": "text/x-python",
   "name": "python",
   "nbconvert_exporter": "python",
   "pygments_lexer": "ipython3",
   "version": "3.8.3"
  }
 },
 "nbformat": 4,
 "nbformat_minor": 4
}
